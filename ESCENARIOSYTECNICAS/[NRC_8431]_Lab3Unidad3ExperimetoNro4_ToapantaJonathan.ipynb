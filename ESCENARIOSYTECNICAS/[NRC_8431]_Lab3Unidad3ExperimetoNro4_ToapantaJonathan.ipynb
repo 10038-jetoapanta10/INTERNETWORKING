{
  "nbformat": 4,
  "nbformat_minor": 0,
  "metadata": {
    "colab": {
      "provenance": []
    },
    "kernelspec": {
      "name": "python3",
      "display_name": "Python 3"
    },
    "language_info": {
      "name": "python"
    }
  },
  "cells": [
    {
      "cell_type": "markdown",
      "source": [
        "\n",
        "\n",
        "\n",
        "# Escenarios experimentales Internetworking\n",
        "Presentado por: Jonathan Toapanta\n",
        "Fecha: 23/02/2023\n",
        "\n"
      ],
      "metadata": {
        "id": "e8H_okS-if5k"
      }
    },
    {
      "cell_type": "code",
      "execution_count": 27,
      "metadata": {
        "id": "Ov3TLQ6cTi5Z"
      },
      "outputs": [],
      "source": [
        "import pandas as pd\n",
        "import numpy as np\n",
        "import matplotlib.pyplot as plt #Gives us Graphics\n",
        "from keras.models import Sequential\n",
        "from keras.layers import Dense, Dropout, Flatten\n",
        "from keras.layers import Conv1D, MaxPooling1D, GlobalMaxPooling1D\n",
        "from keras.utils import to_categorical\n",
        "from sklearn.model_selection import train_test_split"
      ]
    },
    {
      "cell_type": "code",
      "source": [
        "# cargar datos y normalizar\n",
        "# Load and preprocess the data\n",
        "url = 'https://raw.githubusercontent.com/beespinosa1/Inter/main/Escenario2.csv'\n",
        "df = pd.read_csv(url)\n",
        "df = pd.read_csv(url,low_memory=False)\n",
        "dataframe = pd.read_csv(url,low_memory=False)\n"
      ],
      "metadata": {
        "id": "RSFMX1TATumL"
      },
      "execution_count": 28,
      "outputs": []
    },
    {
      "cell_type": "code",
      "source": [
        "def dfNormalize(df):\n",
        "    for feature_name in df.columns:\n",
        "        df.loc[:,feature_name] = pd.to_numeric(df.loc[:,feature_name], errors='coerce').fillna(0)\n",
        "        max_value = df[feature_name].max()\n",
        "        min_value = df[feature_name].min()   \n",
        "        if (max_value - min_value) > 0:\n",
        "            df.loc[:,feature_name] = (df.loc[:,feature_name] - min_value) / (max_value - min_value)\n",
        "        else:\n",
        "            df.loc[:,feature_name] = (df.loc[:,feature_name] - min_value)    \n",
        "    return df"
      ],
      "metadata": {
        "id": "fuvZNDFuTxo1"
      },
      "execution_count": 29,
      "outputs": []
    },
    {
      "cell_type": "code",
      "source": [
        "dataframe = dataframe.reindex(np.random.permutation(dataframe.index)).copy()\n",
        "\n",
        "keys = dataframe.keys()\n",
        "data_to_process = dataframe[keys[4:len(keys)-1]].copy()\n",
        "x_normalised = dfNormalize(data_to_process)\n"
      ],
      "metadata": {
        "id": "85mhy4x5Tzcj"
      },
      "execution_count": 30,
      "outputs": []
    },
    {
      "cell_type": "code",
      "source": [
        "y = dataframe['label']\n",
        "change_labels = lambda x: 1 if x == 'nonTOR' else 0\n",
        "y_normalised = dataframe['label'].apply(change_labels)\n",
        "\n"
      ],
      "metadata": {
        "id": "SBWqWgptXGR2"
      },
      "execution_count": 31,
      "outputs": []
    },
    {
      "cell_type": "code",
      "source": [
        "# Split the data into training and testing sets\n",
        "x_train, x_test, y_train, y_test = train_test_split(x_normalised, y_normalised, test_size=0.2, random_state=42)\n",
        "\n",
        "# Reshape the data to fit the input shape of the CNN\n",
        "x_train = x_train.values.reshape(x_train.shape[0], x_train.shape[1], 1)\n",
        "x_test = x_test.values.reshape(x_test.shape[0], x_test.shape[1], 1)\n"
      ],
      "metadata": {
        "id": "2ccXjjec4Wm1"
      },
      "execution_count": 32,
      "outputs": []
    },
    {
      "cell_type": "code",
      "source": [
        "# Convert the labels to categorical format\n",
        "y_train = to_categorical(y_train)\n",
        "y_test = to_categorical(y_test)\n"
      ],
      "metadata": {
        "id": "5dEyVFii4XKU"
      },
      "execution_count": 33,
      "outputs": []
    },
    {
      "cell_type": "code",
      "source": [
        "# Define the Deep Transfer Learning model\n",
        "model = Sequential()\n",
        "model.add(Conv1D(64, 3, activation='relu', input_shape=x_train.shape[1:]))\n",
        "model.add(Conv1D(64, 3, activation='relu'))\n",
        "model.add(MaxPooling1D(3))\n",
        "model.add(Conv1D(128, 3, activation='relu'))\n",
        "model.add(Conv1D(128, 3, activation='relu'))\n",
        "model.add(GlobalMaxPooling1D())\n",
        "model.add(Dropout(0.5))\n",
        "model.add(Dense(y_train.shape[1], activation='softmax'))"
      ],
      "metadata": {
        "id": "9zaJQqha4aVb"
      },
      "execution_count": 34,
      "outputs": []
    },
    {
      "cell_type": "code",
      "source": [
        "# Compile the model\n",
        "model.compile(loss='categorical_crossentropy', optimizer='adam', metrics=['accuracy'])\n"
      ],
      "metadata": {
        "id": "jDUo2XBv4bwc"
      },
      "execution_count": 35,
      "outputs": []
    },
    {
      "cell_type": "code",
      "source": [
        "# Train the model\n",
        "history = model.fit(x_train, y_train, batch_size=32, epochs=20, validation_data=(x_test, y_test))\n",
        "\n"
      ],
      "metadata": {
        "colab": {
          "base_uri": "https://localhost:8080/"
        },
        "id": "4BfqucA249Rs",
        "outputId": "bed0a27b-9ec2-43c4-f0ec-037cd62873de"
      },
      "execution_count": 36,
      "outputs": [
        {
          "output_type": "stream",
          "name": "stdout",
          "text": [
            "Epoch 1/20\n",
            "75/75 [==============================] - 2s 10ms/step - loss: 0.1182 - accuracy: 0.9871 - val_loss: 0.0597 - val_accuracy: 0.9983\n",
            "Epoch 2/20\n",
            "75/75 [==============================] - 1s 8ms/step - loss: 0.0132 - accuracy: 0.9992 - val_loss: 0.0207 - val_accuracy: 0.9983\n",
            "Epoch 3/20\n",
            "75/75 [==============================] - 1s 8ms/step - loss: 0.0073 - accuracy: 0.9992 - val_loss: 0.0236 - val_accuracy: 0.9983\n",
            "Epoch 4/20\n",
            "75/75 [==============================] - 1s 8ms/step - loss: 0.0078 - accuracy: 0.9992 - val_loss: 0.0190 - val_accuracy: 0.9983\n",
            "Epoch 5/20\n",
            "75/75 [==============================] - 1s 8ms/step - loss: 0.0079 - accuracy: 0.9992 - val_loss: 0.0231 - val_accuracy: 0.9983\n",
            "Epoch 6/20\n",
            "75/75 [==============================] - 1s 8ms/step - loss: 0.0071 - accuracy: 0.9992 - val_loss: 0.0254 - val_accuracy: 0.9983\n",
            "Epoch 7/20\n",
            "75/75 [==============================] - 1s 10ms/step - loss: 0.0076 - accuracy: 0.9992 - val_loss: 0.0257 - val_accuracy: 0.9983\n",
            "Epoch 8/20\n",
            "75/75 [==============================] - 1s 10ms/step - loss: 0.0076 - accuracy: 0.9992 - val_loss: 0.0222 - val_accuracy: 0.9983\n",
            "Epoch 9/20\n",
            "75/75 [==============================] - 1s 9ms/step - loss: 0.0069 - accuracy: 0.9992 - val_loss: 0.0327 - val_accuracy: 0.9983\n",
            "Epoch 10/20\n",
            "75/75 [==============================] - 1s 8ms/step - loss: 0.0103 - accuracy: 0.9992 - val_loss: 0.0243 - val_accuracy: 0.9983\n",
            "Epoch 11/20\n",
            "75/75 [==============================] - 1s 7ms/step - loss: 0.0054 - accuracy: 0.9992 - val_loss: 0.0322 - val_accuracy: 0.9983\n",
            "Epoch 12/20\n",
            "75/75 [==============================] - 1s 7ms/step - loss: 0.0082 - accuracy: 0.9992 - val_loss: 0.0411 - val_accuracy: 0.9983\n",
            "Epoch 13/20\n",
            "75/75 [==============================] - 1s 8ms/step - loss: 0.0107 - accuracy: 0.9992 - val_loss: 0.0416 - val_accuracy: 0.9983\n",
            "Epoch 14/20\n",
            "75/75 [==============================] - 1s 8ms/step - loss: 0.0095 - accuracy: 0.9992 - val_loss: 0.0365 - val_accuracy: 0.9983\n",
            "Epoch 15/20\n",
            "75/75 [==============================] - 1s 8ms/step - loss: 0.0079 - accuracy: 0.9992 - val_loss: 0.0322 - val_accuracy: 0.9983\n",
            "Epoch 16/20\n",
            "75/75 [==============================] - 1s 8ms/step - loss: 0.0099 - accuracy: 0.9992 - val_loss: 0.0331 - val_accuracy: 0.9983\n",
            "Epoch 17/20\n",
            "75/75 [==============================] - 1s 8ms/step - loss: 0.0073 - accuracy: 0.9992 - val_loss: 0.0360 - val_accuracy: 0.9983\n",
            "Epoch 18/20\n",
            "75/75 [==============================] - 1s 8ms/step - loss: 0.0109 - accuracy: 0.9992 - val_loss: 0.0327 - val_accuracy: 0.9983\n",
            "Epoch 19/20\n",
            "75/75 [==============================] - 1s 8ms/step - loss: 0.0095 - accuracy: 0.9992 - val_loss: 0.0285 - val_accuracy: 0.9983\n",
            "Epoch 20/20\n",
            "75/75 [==============================] - 1s 8ms/step - loss: 0.0081 - accuracy: 0.9992 - val_loss: 0.0281 - val_accuracy: 0.9983\n"
          ]
        }
      ]
    },
    {
      "cell_type": "code",
      "source": [
        "def evaluate_model(model, X_test, y_test):\n",
        "    y_pred = model.predict(X_test)\n",
        "    y_pred_bin = (y_pred > 0.5).astype(int)\n",
        "    loss, accuracy = model.evaluate(X_test, y_test, verbose=False)\n",
        "    precision = precision_score(y_test, y_pred_bin, average='weighted')\n",
        "    recall = recall_score(y_test, y_pred_bin, average='weighted')\n",
        "    f1 = f1_score(y_test, y_pred_bin, average='weighted')\n",
        "    cm = confusion_matrix(y_test.argmax(axis=1), y_pred_bin.argmax(axis=1))\n",
        "    print(\"Confusion Matrix:\\n\", cm)\n",
        "    print(\"Loss: {:.4f}\\nAccuracy: {:.4f}\\nPrecision: {:.4f}\\nRecall: {:.4f}\\nF1 Score: {:.4f}\".format(loss, accuracy, precision, recall, f1))\n"
      ],
      "metadata": {
        "id": "b24cDl_B8NN0"
      },
      "execution_count": 37,
      "outputs": []
    },
    {
      "cell_type": "code",
      "source": [
        "evaluate_model(model, x_test, y_test)"
      ],
      "metadata": {
        "colab": {
          "base_uri": "https://localhost:8080/"
        },
        "id": "geHmYKsE5KFb",
        "outputId": "2515d2f4-ddf9-44e4-a632-c1a065397024"
      },
      "execution_count": 38,
      "outputs": [
        {
          "output_type": "stream",
          "name": "stdout",
          "text": [
            "19/19 [==============================] - 0s 2ms/step\n",
            "Confusion Matrix:\n",
            " [[  0   1]\n",
            " [  0 599]]\n",
            "Loss: 0.0281\n",
            "Accuracy: 0.9983\n",
            "Precision: 0.9967\n",
            "Recall: 0.9983\n",
            "F1 Score: 0.9975\n"
          ]
        },
        {
          "output_type": "stream",
          "name": "stderr",
          "text": [
            "/usr/local/lib/python3.8/dist-packages/sklearn/metrics/_classification.py:1318: UndefinedMetricWarning: Precision is ill-defined and being set to 0.0 in labels with no predicted samples. Use `zero_division` parameter to control this behavior.\n",
            "  _warn_prf(average, modifier, msg_start, len(result))\n"
          ]
        }
      ]
    }
  ]
}