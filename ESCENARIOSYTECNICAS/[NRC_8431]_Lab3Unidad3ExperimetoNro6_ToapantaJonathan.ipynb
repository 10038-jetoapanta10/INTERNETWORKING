{
  "nbformat": 4,
  "nbformat_minor": 0,
  "metadata": {
    "colab": {
      "provenance": []
    },
    "kernelspec": {
      "name": "python3",
      "display_name": "Python 3"
    },
    "language_info": {
      "name": "python"
    }
  },
  "cells": [
    {
      "cell_type": "markdown",
      "source": [
        "# Escenarios experimentales Internetworking\n",
        "Presentado por: Jonathan Toapanta\n",
        "Fecha: 23/02/2023"
      ],
      "metadata": {
        "id": "IwpqM06ll-7L"
      }
    },
    {
      "cell_type": "code",
      "execution_count": 9,
      "metadata": {
        "id": "b1bhfdphjyEr"
      },
      "outputs": [],
      "source": [
        "import pandas as pd\n",
        "import numpy as np\n",
        "import matplotlib.pyplot as plt #Gives us Graphics\n",
        "from sklearn.model_selection import train_test_split\n",
        "from tensorflow.keras.models import Sequential\n",
        "from tensorflow.keras.layers import Dense, Dropout\n",
        "from tensorflow.keras.callbacks import EarlyStopping\n",
        "from tensorflow.keras.applications import VGG16\n",
        "from tensorflow.keras.optimizers import Adam"
      ]
    },
    {
      "cell_type": "code",
      "source": [
        "# Load the dataset\n",
        "url = 'https://raw.githubusercontent.com/beespinosa1/Inter/main/Escenario3.csv'\n",
        "df = pd.read_csv(url)"
      ],
      "metadata": {
        "id": "9Fd_asSfj0Gy"
      },
      "execution_count": 10,
      "outputs": []
    },
    {
      "cell_type": "code",
      "source": [
        "names =['srcip', 'sport', 'dstip', 'dsport', 'proto', 'state', 'dur',\n",
        "        'sbytes', 'dbytes', 'sttl', 'dttl', 'sloss', 'dloss', 'service',\n",
        "        'Sload', 'Dload', 'Spkts', 'Dpkts', 'swin', 'dwin', 'stcpb',\n",
        "        'dtcpb', 'smeansz', 'dmeansz', 'trans_depth', 'res_bdy_len',\n",
        "        'Sjit', 'Djit', 'Stime', 'Ltime', 'Sintpkt', 'Dintpkt', 'tcprtt',\n",
        "        'synack', 'ackdat', 'is_sm_ips_ports', 'ct_state_ttl',\n",
        "        'ct_flw_http_mthd', 'is_ftp_login', 'ct_ftp_cmd', 'ct_srv_src',\n",
        "        'ct_srv_dst', 'ct_dst_ltm', 'ct_src_ltm', 'ct_src_dport_ltm',\n",
        "        'ct_dst_sport_ltm', 'ct_dst_src_ltm', 'attack_cat', 'Label']\n",
        "\n",
        "df= pd.read_csv(url, names=names, low_memory=False)\n"
      ],
      "metadata": {
        "id": "WSO7p-dzj0JR"
      },
      "execution_count": 11,
      "outputs": []
    },
    {
      "cell_type": "code",
      "source": [
        "# Normalise the data\n",
        "def dfNormalize(df):\n",
        "    for feature_name in df.columns:\n",
        "        df.loc[:,feature_name]= pd.to_numeric(df.loc[:,feature_name], errors='coerce').fillna(0)\n",
        "        max_value = df[feature_name].max()\n",
        "        min_value = df[feature_name].min()   \n",
        "        if (max_value - min_value) > 0:\n",
        "            df.loc[:,feature_name] = (df.loc[:,feature_name] - min_value) / (max_value - min_value)\n",
        "        else:\n",
        "            df.loc[:,feature_name] = (df.loc[:,feature_name]- min_value)    \n",
        "    return df\n"
      ],
      "metadata": {
        "id": "8YkOqltFj0Lq"
      },
      "execution_count": 12,
      "outputs": []
    },
    {
      "cell_type": "code",
      "source": [
        "dataframe= pd.read_csv(url, names=names, low_memory=False)\n",
        "dataframe = dataframe.reindex(np.random.permutation(dataframe.index)).copy()\n",
        "print(dataframe.describe())\n",
        "print(list(dataframe))"
      ],
      "metadata": {
        "colab": {
          "base_uri": "https://localhost:8080/"
        },
        "id": "QBx-DLI8j0N7",
        "outputId": "e83f8c17-fff4-4689-8b53-e4a143c649e7"
      },
      "execution_count": 13,
      "outputs": [
        {
          "output_type": "stream",
          "name": "stdout",
          "text": [
            "              sport          dur         sbytes        dbytes         sttl  \\\n",
            "count   3500.000000  3500.000000    3500.000000  3.500000e+03  3500.000000   \n",
            "mean   31926.315429     3.111007    3468.078571  2.876112e+04    35.811714   \n",
            "std    19176.226410     7.019469    7187.232820  1.356012e+05    31.764679   \n",
            "min        0.000000     0.000000      46.000000  0.000000e+00     0.000000   \n",
            "25%    15392.000000     0.010383     568.000000  3.200000e+02    31.000000   \n",
            "50%    31459.500000     0.576294    1540.000000  1.644000e+03    31.000000   \n",
            "75%    48528.000000     2.254592    2662.000000  1.016800e+04    31.000000   \n",
            "max    65534.000000    50.004387  115727.000000  1.641360e+06   254.000000   \n",
            "\n",
            "              dttl        sloss        dloss         Sload         Dload  ...  \\\n",
            "count  3500.000000  3500.000000  3500.000000  3.500000e+03  3.500000e+03  ...   \n",
            "mean     34.915714     5.156286    13.966857  1.862092e+06  1.346940e+06  ...   \n",
            "std      37.409203     6.487297    47.821493  3.574078e+07  3.082352e+06  ...   \n",
            "min       0.000000     0.000000     0.000000  0.000000e+00  0.000000e+00  ...   \n",
            "25%      29.000000     1.000000     1.000000  5.806284e+03  8.735622e+03  ...   \n",
            "50%      29.000000     4.000000     4.000000  3.045002e+04  7.640456e+04  ...   \n",
            "75%      29.000000     7.000000    13.000000  5.377532e+05  6.668229e+05  ...   \n",
            "max     252.000000    55.000000   583.000000  1.805333e+09  1.673650e+07  ...   \n",
            "\n",
            "       is_ftp_login   ct_ftp_cmd   ct_srv_src   ct_srv_dst   ct_dst_ltm  \\\n",
            "count   3500.000000  3500.000000  3500.000000  3500.000000  3500.000000   \n",
            "mean       0.006000     0.006000     6.182857     5.879429     5.537143   \n",
            "std        0.077238     0.077238     4.769418     4.503059     4.463826   \n",
            "min        0.000000     0.000000     1.000000     1.000000     1.000000   \n",
            "25%        0.000000     0.000000     2.000000     2.000000     2.000000   \n",
            "50%        0.000000     0.000000     5.000000     5.000000     4.000000   \n",
            "75%        0.000000     0.000000     9.000000     8.250000     8.000000   \n",
            "max        1.000000     1.000000    24.000000    23.000000    25.000000   \n",
            "\n",
            "        ct_src_ltm  ct_src_dport_ltm  ct_dst_sport_ltm  ct_dst_src_ltm  \\\n",
            "count  3500.000000       3500.000000       3500.000000     3500.000000   \n",
            "mean      5.676286          2.883429          1.022857        2.162571   \n",
            "std       4.481017          3.647220          0.175826        1.761136   \n",
            "min       1.000000          1.000000          1.000000        1.000000   \n",
            "25%       2.000000          1.000000          1.000000        1.000000   \n",
            "50%       4.000000          1.000000          1.000000        1.000000   \n",
            "75%       8.000000          3.000000          1.000000        3.000000   \n",
            "max      20.000000         19.000000          4.000000       11.000000   \n",
            "\n",
            "             Label  \n",
            "count  3500.000000  \n",
            "mean      0.034857  \n",
            "std       0.183444  \n",
            "min       0.000000  \n",
            "25%       0.000000  \n",
            "50%       0.000000  \n",
            "75%       0.000000  \n",
            "max       1.000000  \n",
            "\n",
            "[8 rows x 42 columns]\n",
            "['srcip', 'sport', 'dstip', 'dsport', 'proto', 'state', 'dur', 'sbytes', 'dbytes', 'sttl', 'dttl', 'sloss', 'dloss', 'service', 'Sload', 'Dload', 'Spkts', 'Dpkts', 'swin', 'dwin', 'stcpb', 'dtcpb', 'smeansz', 'dmeansz', 'trans_depth', 'res_bdy_len', 'Sjit', 'Djit', 'Stime', 'Ltime', 'Sintpkt', 'Dintpkt', 'tcprtt', 'synack', 'ackdat', 'is_sm_ips_ports', 'ct_state_ttl', 'ct_flw_http_mthd', 'is_ftp_login', 'ct_ftp_cmd', 'ct_srv_src', 'ct_srv_dst', 'ct_dst_ltm', 'ct_src_ltm', 'ct_src_dport_ltm', 'ct_dst_sport_ltm', 'ct_dst_src_ltm', 'attack_cat', 'Label']\n"
          ]
        }
      ]
    },
    {
      "cell_type": "code",
      "source": [
        "keys = dataframe.keys()\n",
        "\n",
        "data_to_process = dataframe[keys[4:len(keys)-1]].copy()\n",
        "\n",
        "x_normalised=dfNormalize(data_to_process)\n",
        "print(x_normalised.describe())\n"
      ],
      "metadata": {
        "colab": {
          "base_uri": "https://localhost:8080/"
        },
        "id": "EI7APSOBj0Qb",
        "outputId": "d568e9f3-2eba-4cc8-e8f0-bd7ec809f10c"
      },
      "execution_count": 14,
      "outputs": [
        {
          "output_type": "stream",
          "name": "stdout",
          "text": [
            "        proto   state          dur       sbytes       dbytes         sttl  \\\n",
            "count  3500.0  3500.0  3500.000000  3500.000000  3500.000000  3500.000000   \n",
            "mean      0.0     0.0     0.062215     0.029582     0.017523     0.140991   \n",
            "std       0.0     0.0     0.140377     0.062130     0.082615     0.125058   \n",
            "min       0.0     0.0     0.000000     0.000000     0.000000     0.000000   \n",
            "25%       0.0     0.0     0.000208     0.004512     0.000195     0.122047   \n",
            "50%       0.0     0.0     0.011525     0.012915     0.001002     0.122047   \n",
            "75%       0.0     0.0     0.045088     0.022614     0.006195     0.122047   \n",
            "max       0.0     0.0     1.000000     1.000000     1.000000     1.000000   \n",
            "\n",
            "              dttl        sloss        dloss  service  ...  is_ftp_login  \\\n",
            "count  3500.000000  3500.000000  3500.000000   3500.0  ...   3500.000000   \n",
            "mean      0.138554     0.093751     0.023957      0.0  ...      0.006000   \n",
            "std       0.148449     0.117951     0.082027      0.0  ...      0.077238   \n",
            "min       0.000000     0.000000     0.000000      0.0  ...      0.000000   \n",
            "25%       0.115079     0.018182     0.001715      0.0  ...      0.000000   \n",
            "50%       0.115079     0.072727     0.006861      0.0  ...      0.000000   \n",
            "75%       0.115079     0.127273     0.022298      0.0  ...      0.000000   \n",
            "max       1.000000     1.000000     1.000000      0.0  ...      1.000000   \n",
            "\n",
            "        ct_ftp_cmd   ct_srv_src   ct_srv_dst   ct_dst_ltm   ct_src_ltm  \\\n",
            "count  3500.000000  3500.000000  3500.000000  3500.000000  3500.000000   \n",
            "mean      0.006000     0.225342     0.221792     0.189048     0.246120   \n",
            "std       0.077238     0.207366     0.204685     0.185993     0.235843   \n",
            "min       0.000000     0.000000     0.000000     0.000000     0.000000   \n",
            "25%       0.000000     0.043478     0.045455     0.041667     0.052632   \n",
            "50%       0.000000     0.173913     0.181818     0.125000     0.157895   \n",
            "75%       0.000000     0.347826     0.329545     0.291667     0.368421   \n",
            "max       1.000000     1.000000     1.000000     1.000000     1.000000   \n",
            "\n",
            "       ct_src_dport_ltm  ct_dst_sport_ltm  ct_dst_src_ltm  attack_cat  \n",
            "count       3500.000000       3500.000000     3500.000000      3500.0  \n",
            "mean           0.104635          0.007619        0.116257         0.0  \n",
            "std            0.202623          0.058609        0.176114         0.0  \n",
            "min            0.000000          0.000000        0.000000         0.0  \n",
            "25%            0.000000          0.000000        0.000000         0.0  \n",
            "50%            0.000000          0.000000        0.000000         0.0  \n",
            "75%            0.111111          0.000000        0.200000         0.0  \n",
            "max            1.000000          1.000000        1.000000         0.0  \n",
            "\n",
            "[8 rows x 44 columns]\n"
          ]
        }
      ]
    },
    {
      "cell_type": "code",
      "source": [
        "# get the train and test data\n",
        "y = dataframe['Label']\n"
      ],
      "metadata": {
        "id": "9cOhrkkwj0TR"
      },
      "execution_count": 15,
      "outputs": []
    },
    {
      "cell_type": "code",
      "source": [
        "# Split the data into train and test sets\n",
        "from sklearn.model_selection import train_test_split\n",
        "\n",
        "x_train, x_test, y_train, y_test = train_test_split(x_normalised, y, test_size=0.2, random_state=42)\n"
      ],
      "metadata": {
        "id": "T5naaEh-n2lZ"
      },
      "execution_count": 16,
      "outputs": []
    },
    {
      "cell_type": "code",
      "source": [
        "# Create the neural network model\n",
        "from tensorflow.keras.models import Sequential\n",
        "from tensorflow.keras.layers import Dense, Dropout\n",
        "\n",
        "model = Sequential([\n",
        "    Dense(64, activation='relu', input_shape=(x_train.shape[1],)),\n",
        "    Dropout(0.2),\n",
        "    Dense(64, activation='relu'),\n",
        "    Dropout(0.2),\n",
        "    Dense(1, activation='sigmoid')\n",
        "])\n"
      ],
      "metadata": {
        "id": "qQxYgwhXn2ns"
      },
      "execution_count": 17,
      "outputs": []
    },
    {
      "cell_type": "code",
      "source": [
        "# Compile the model\n",
        "model.compile(loss='binary_crossentropy', optimizer='adam', metrics=['accuracy'])\n"
      ],
      "metadata": {
        "id": "ZeccLpDgn2p6"
      },
      "execution_count": 18,
      "outputs": []
    },
    {
      "cell_type": "code",
      "source": [
        "# Train the model\n",
        "history = model.fit(x_train, y_train, epochs=10, batch_size=32, validation_split=0.2)"
      ],
      "metadata": {
        "colab": {
          "base_uri": "https://localhost:8080/"
        },
        "id": "2e6L8aYhn2vh",
        "outputId": "6c8eddf9-b571-4958-b461-9c99184a8ff0"
      },
      "execution_count": 19,
      "outputs": [
        {
          "output_type": "stream",
          "name": "stdout",
          "text": [
            "Epoch 1/10\n",
            "70/70 [==============================] - 1s 5ms/step - loss: 0.2650 - accuracy: 0.9540 - val_loss: 0.1238 - val_accuracy: 0.9607\n",
            "Epoch 2/10\n",
            "70/70 [==============================] - 0s 2ms/step - loss: 0.0751 - accuracy: 0.9688 - val_loss: 0.0329 - val_accuracy: 0.9911\n",
            "Epoch 3/10\n",
            "70/70 [==============================] - 0s 2ms/step - loss: 0.0203 - accuracy: 0.9960 - val_loss: 0.0072 - val_accuracy: 1.0000\n",
            "Epoch 4/10\n",
            "70/70 [==============================] - 0s 2ms/step - loss: 0.0078 - accuracy: 0.9991 - val_loss: 0.0033 - val_accuracy: 1.0000\n",
            "Epoch 5/10\n",
            "70/70 [==============================] - 0s 2ms/step - loss: 0.0050 - accuracy: 0.9991 - val_loss: 0.0023 - val_accuracy: 1.0000\n",
            "Epoch 6/10\n",
            "70/70 [==============================] - 0s 2ms/step - loss: 0.0054 - accuracy: 0.9987 - val_loss: 0.0028 - val_accuracy: 0.9982\n",
            "Epoch 7/10\n",
            "70/70 [==============================] - 0s 3ms/step - loss: 0.0034 - accuracy: 0.9996 - val_loss: 0.0020 - val_accuracy: 0.9982\n",
            "Epoch 8/10\n",
            "70/70 [==============================] - 0s 2ms/step - loss: 0.0020 - accuracy: 0.9996 - val_loss: 0.0014 - val_accuracy: 1.0000\n",
            "Epoch 9/10\n",
            "70/70 [==============================] - 0s 2ms/step - loss: 0.0028 - accuracy: 0.9996 - val_loss: 0.0017 - val_accuracy: 1.0000\n",
            "Epoch 10/10\n",
            "70/70 [==============================] - 0s 2ms/step - loss: 0.0027 - accuracy: 0.9996 - val_loss: 0.0019 - val_accuracy: 0.9982\n"
          ]
        }
      ]
    },
    {
      "cell_type": "code",
      "source": [
        "# Evaluate the model on the test data\n",
        "test_loss, test_acc = model.evaluate(x_test, y_test)\n",
        "\n",
        "# Print the test accuracy\n",
        "print('Test accuracy:', test_acc)"
      ],
      "metadata": {
        "colab": {
          "base_uri": "https://localhost:8080/"
        },
        "id": "K96JYkP0ogmT",
        "outputId": "5773c8ad-b4d2-45cb-dcfa-f87246f40e34"
      },
      "execution_count": 22,
      "outputs": [
        {
          "output_type": "stream",
          "name": "stdout",
          "text": [
            "22/22 [==============================] - 0s 1ms/step - loss: 2.9554e-04 - accuracy: 1.0000\n",
            "Test accuracy: 1.0\n"
          ]
        }
      ]
    }
  ]
}