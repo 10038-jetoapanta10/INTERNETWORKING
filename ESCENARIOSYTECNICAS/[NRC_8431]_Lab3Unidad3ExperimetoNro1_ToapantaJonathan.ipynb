{
  "nbformat": 4,
  "nbformat_minor": 0,
  "metadata": {
    "colab": {
      "provenance": []
    },
    "kernelspec": {
      "name": "python3",
      "display_name": "Python 3"
    },
    "language_info": {
      "name": "python"
    }
  },
  "cells": [
    {
      "cell_type": "markdown",
      "source": [
        "# Escenarios experimentales Internetworking\n",
        "Presentado por: Jonathan Toapanta\n",
        "Fecha: 23/02/2023\n"
      ],
      "metadata": {
        "id": "ps31po5TiwJs"
      }
    },
    {
      "cell_type": "markdown",
      "source": [
        "REPOSITORIO : https://github.com/jonathan-elian-toapanta/INTERNETWORKING"
      ],
      "metadata": {
        "id": "kPntODjJyGZS"
      }
    },
    {
      "cell_type": "code",
      "source": [
        "import pandas as pd\n",
        "import numpy as np\n",
        "import matplotlib.pyplot as plt #Gives us Graphics\n",
        "from keras.models import Sequential\n",
        "from keras.layers import Dense, Dropout, Flatten\n",
        "from keras.layers import Conv1D, MaxPooling1D\n",
        "from keras.utils import to_categorical\n",
        "from sklearn.model_selection import train_test_split\n"
      ],
      "metadata": {
        "id": "BAl8sqTMt9Tz"
      },
      "execution_count": 42,
      "outputs": []
    },
    {
      "cell_type": "code",
      "source": [
        "# cargar datos y normalizar\n",
        "# Load and preprocess the data\n",
        "url = 'https://raw.githubusercontent.com/beespinosa1/Inter/main/Escenario2.csv'\n",
        "df = pd.read_csv(url)\n",
        "df = pd.read_csv(url,low_memory=False)\n",
        "dataframe = pd.read_csv(url,low_memory=False)"
      ],
      "metadata": {
        "id": "1vfSqT4Ot-Ps"
      },
      "execution_count": 43,
      "outputs": []
    },
    {
      "cell_type": "code",
      "source": [
        "def dfNormalize(df):\n",
        "    for feature_name in df.columns:\n",
        "        df.loc[:,feature_name] = pd.to_numeric(df.loc[:,feature_name], errors='coerce').fillna(0)\n",
        "        max_value = df[feature_name].max()\n",
        "        min_value = df[feature_name].min()   \n",
        "        if (max_value - min_value) > 0:\n",
        "            df.loc[:,feature_name] = (df.loc[:,feature_name] - min_value) / (max_value - min_value)\n",
        "        else:\n",
        "            df.loc[:,feature_name] = (df.loc[:,feature_name] - min_value)    \n",
        "    return df\n",
        "dataframe = dataframe.reindex(np.random.permutation(dataframe.index)).copy()"
      ],
      "metadata": {
        "id": "dDV19ldBuAl1"
      },
      "execution_count": 44,
      "outputs": []
    },
    {
      "cell_type": "code",
      "source": [
        "keys = dataframe.keys()\n",
        "data_to_process = dataframe[keys[4:len(keys)-1]].copy()\n",
        "x_normalised = dfNormalize(data_to_process)"
      ],
      "metadata": {
        "id": "1J_O0BEluMt1"
      },
      "execution_count": 45,
      "outputs": []
    },
    {
      "cell_type": "code",
      "source": [
        "y = dataframe['label']\n",
        "change_labels = lambda x: 1 if x == 'nonTOR' else 0\n",
        "y_normalised = dataframe['label'].apply(change_labels)\n"
      ],
      "metadata": {
        "id": "WWYUDq5huPNN"
      },
      "execution_count": 46,
      "outputs": []
    },
    {
      "cell_type": "code",
      "source": [
        "# Split the data into training and testing sets\n",
        "x_train, x_test, y_train, y_test = train_test_split(x_normalised, y_normalised, test_size=0.2, random_state=42)\n",
        "\n",
        "# Reshape the data to fit the input shape of the CNN\n",
        "x_train = x_train.values.reshape(x_train.shape[0], x_train.shape[1], 1)\n",
        "x_test = x_test.values.reshape(x_test.shape[0], x_test.shape[1], 1)\n",
        "\n",
        "# Convert the labels to categorical format\n",
        "y_train = to_categorical(y_train)\n",
        "y_test = to_categorical(y_test)"
      ],
      "metadata": {
        "id": "kchyEhERumvl"
      },
      "execution_count": 47,
      "outputs": []
    },
    {
      "cell_type": "code",
      "source": [
        "# Define the CNN model\n",
        "model = Sequential()\n",
        "model.add(Conv1D(filters=64, kernel_size=3, activation='relu', input_shape=(x_train.shape[1], 1)))\n",
        "model.add(MaxPooling1D(pool_size=2))\n",
        "model.add(Conv1D(filters=128, kernel_size=3, activation='relu'))\n",
        "model.add(MaxPooling1D(pool_size=2))\n",
        "model.add(Flatten())\n",
        "model.add(Dense(64, activation='relu'))\n",
        "model.add(Dropout(0.5))\n",
        "model.add(Dense(2, activation='softmax'))\n"
      ],
      "metadata": {
        "id": "yFuZqDKdusBs"
      },
      "execution_count": 48,
      "outputs": []
    },
    {
      "cell_type": "code",
      "source": [
        "# Compile the model\n",
        "model.compile(loss='categorical_crossentropy', optimizer='adam', metrics=['accuracy'])"
      ],
      "metadata": {
        "id": "QJvyHuiaus98"
      },
      "execution_count": 49,
      "outputs": []
    },
    {
      "cell_type": "code",
      "source": [
        "# Train the model\n",
        "history = model.fit(x_train, y_train, batch_size=64, epochs=50, validation_data=(x_test, y_test))\n"
      ],
      "metadata": {
        "colab": {
          "base_uri": "https://localhost:8080/"
        },
        "id": "qK9N-rlexmrk",
        "outputId": "abedecb0-86ec-4ec8-a805-9e5c72ef085b"
      },
      "execution_count": 50,
      "outputs": [
        {
          "output_type": "stream",
          "name": "stdout",
          "text": [
            "Epoch 1/50\n",
            "38/38 [==============================] - 2s 17ms/step - loss: 0.2803 - accuracy: 0.9887 - val_loss: 0.0379 - val_accuracy: 0.9967\n",
            "Epoch 2/50\n",
            "38/38 [==============================] - 0s 12ms/step - loss: 0.0038 - accuracy: 0.9996 - val_loss: 0.0515 - val_accuracy: 0.9967\n",
            "Epoch 3/50\n",
            "38/38 [==============================] - 0s 11ms/step - loss: 0.0068 - accuracy: 0.9996 - val_loss: 0.0435 - val_accuracy: 0.9967\n",
            "Epoch 4/50\n",
            "38/38 [==============================] - 0s 11ms/step - loss: 0.0049 - accuracy: 0.9996 - val_loss: 0.0407 - val_accuracy: 0.9967\n",
            "Epoch 5/50\n",
            "38/38 [==============================] - 0s 11ms/step - loss: 0.0044 - accuracy: 0.9996 - val_loss: 0.0426 - val_accuracy: 0.9967\n",
            "Epoch 6/50\n",
            "38/38 [==============================] - 0s 12ms/step - loss: 0.0041 - accuracy: 0.9996 - val_loss: 0.0376 - val_accuracy: 0.9967\n",
            "Epoch 7/50\n",
            "38/38 [==============================] - 0s 11ms/step - loss: 0.0057 - accuracy: 0.9996 - val_loss: 0.0374 - val_accuracy: 0.9967\n",
            "Epoch 8/50\n",
            "38/38 [==============================] - 0s 11ms/step - loss: 0.0024 - accuracy: 0.9996 - val_loss: 0.0399 - val_accuracy: 0.9967\n",
            "Epoch 9/50\n",
            "38/38 [==============================] - 0s 12ms/step - loss: 0.0056 - accuracy: 0.9996 - val_loss: 0.0371 - val_accuracy: 0.9967\n",
            "Epoch 10/50\n",
            "38/38 [==============================] - 0s 12ms/step - loss: 0.0044 - accuracy: 0.9996 - val_loss: 0.0368 - val_accuracy: 0.9967\n",
            "Epoch 11/50\n",
            "38/38 [==============================] - 1s 18ms/step - loss: 0.0039 - accuracy: 0.9996 - val_loss: 0.0387 - val_accuracy: 0.9967\n",
            "Epoch 12/50\n",
            "38/38 [==============================] - 1s 19ms/step - loss: 0.0046 - accuracy: 0.9996 - val_loss: 0.0386 - val_accuracy: 0.9967\n",
            "Epoch 13/50\n",
            "38/38 [==============================] - 1s 21ms/step - loss: 0.0057 - accuracy: 0.9996 - val_loss: 0.0382 - val_accuracy: 0.9967\n",
            "Epoch 14/50\n",
            "38/38 [==============================] - 1s 21ms/step - loss: 0.0049 - accuracy: 0.9996 - val_loss: 0.0373 - val_accuracy: 0.9967\n",
            "Epoch 15/50\n",
            "38/38 [==============================] - 1s 18ms/step - loss: 0.0045 - accuracy: 0.9996 - val_loss: 0.0351 - val_accuracy: 0.9967\n",
            "Epoch 16/50\n",
            "38/38 [==============================] - 1s 18ms/step - loss: 0.0035 - accuracy: 0.9996 - val_loss: 0.0393 - val_accuracy: 0.9967\n",
            "Epoch 17/50\n",
            "38/38 [==============================] - 1s 18ms/step - loss: 0.0030 - accuracy: 0.9996 - val_loss: 0.0382 - val_accuracy: 0.9967\n",
            "Epoch 18/50\n",
            "38/38 [==============================] - 0s 12ms/step - loss: 0.0035 - accuracy: 0.9996 - val_loss: 0.0386 - val_accuracy: 0.9967\n",
            "Epoch 19/50\n",
            "38/38 [==============================] - 0s 10ms/step - loss: 0.0037 - accuracy: 0.9996 - val_loss: 0.0406 - val_accuracy: 0.9967\n",
            "Epoch 20/50\n",
            "38/38 [==============================] - 0s 11ms/step - loss: 0.0075 - accuracy: 0.9996 - val_loss: 0.0350 - val_accuracy: 0.9967\n",
            "Epoch 21/50\n",
            "38/38 [==============================] - 0s 11ms/step - loss: 0.0035 - accuracy: 0.9996 - val_loss: 0.0406 - val_accuracy: 0.9967\n",
            "Epoch 22/50\n",
            "38/38 [==============================] - 0s 12ms/step - loss: 0.0060 - accuracy: 0.9996 - val_loss: 0.0358 - val_accuracy: 0.9967\n",
            "Epoch 23/50\n",
            "38/38 [==============================] - 0s 11ms/step - loss: 0.0036 - accuracy: 0.9996 - val_loss: 0.0400 - val_accuracy: 0.9967\n",
            "Epoch 24/50\n",
            "38/38 [==============================] - 0s 10ms/step - loss: 0.0033 - accuracy: 0.9996 - val_loss: 0.0414 - val_accuracy: 0.9967\n",
            "Epoch 25/50\n",
            "38/38 [==============================] - 0s 12ms/step - loss: 0.0046 - accuracy: 0.9996 - val_loss: 0.0380 - val_accuracy: 0.9967\n",
            "Epoch 26/50\n",
            "38/38 [==============================] - 0s 12ms/step - loss: 0.0039 - accuracy: 0.9996 - val_loss: 0.0401 - val_accuracy: 0.9967\n",
            "Epoch 27/50\n",
            "38/38 [==============================] - 0s 11ms/step - loss: 0.0051 - accuracy: 0.9996 - val_loss: 0.0378 - val_accuracy: 0.9967\n",
            "Epoch 28/50\n",
            "38/38 [==============================] - 0s 12ms/step - loss: 0.0060 - accuracy: 0.9996 - val_loss: 0.0349 - val_accuracy: 0.9967\n",
            "Epoch 29/50\n",
            "38/38 [==============================] - 0s 11ms/step - loss: 0.0039 - accuracy: 0.9996 - val_loss: 0.0398 - val_accuracy: 0.9967\n",
            "Epoch 30/50\n",
            "38/38 [==============================] - 0s 12ms/step - loss: 0.0035 - accuracy: 0.9996 - val_loss: 0.0405 - val_accuracy: 0.9967\n",
            "Epoch 31/50\n",
            "38/38 [==============================] - 0s 12ms/step - loss: 0.0046 - accuracy: 0.9996 - val_loss: 0.0363 - val_accuracy: 0.9967\n",
            "Epoch 32/50\n",
            "38/38 [==============================] - 0s 11ms/step - loss: 0.0040 - accuracy: 0.9996 - val_loss: 0.0447 - val_accuracy: 0.9967\n",
            "Epoch 33/50\n",
            "38/38 [==============================] - 0s 11ms/step - loss: 0.0056 - accuracy: 0.9996 - val_loss: 0.0349 - val_accuracy: 0.9967\n",
            "Epoch 34/50\n",
            "38/38 [==============================] - 0s 11ms/step - loss: 0.0048 - accuracy: 0.9996 - val_loss: 0.0388 - val_accuracy: 0.9967\n",
            "Epoch 35/50\n",
            "38/38 [==============================] - 0s 12ms/step - loss: 0.0051 - accuracy: 0.9996 - val_loss: 0.0366 - val_accuracy: 0.9967\n",
            "Epoch 36/50\n",
            "38/38 [==============================] - 0s 11ms/step - loss: 0.0041 - accuracy: 0.9996 - val_loss: 0.0387 - val_accuracy: 0.9967\n",
            "Epoch 37/50\n",
            "38/38 [==============================] - 0s 12ms/step - loss: 0.0045 - accuracy: 0.9996 - val_loss: 0.0424 - val_accuracy: 0.9967\n",
            "Epoch 38/50\n",
            "38/38 [==============================] - 0s 11ms/step - loss: 0.0052 - accuracy: 0.9996 - val_loss: 0.0381 - val_accuracy: 0.9967\n",
            "Epoch 39/50\n",
            "38/38 [==============================] - 1s 15ms/step - loss: 0.0040 - accuracy: 0.9996 - val_loss: 0.0414 - val_accuracy: 0.9967\n",
            "Epoch 40/50\n",
            "38/38 [==============================] - 1s 16ms/step - loss: 0.0051 - accuracy: 0.9996 - val_loss: 0.0393 - val_accuracy: 0.9967\n",
            "Epoch 41/50\n",
            "38/38 [==============================] - 1s 17ms/step - loss: 0.0050 - accuracy: 0.9996 - val_loss: 0.0433 - val_accuracy: 0.9967\n",
            "Epoch 42/50\n",
            "38/38 [==============================] - 1s 18ms/step - loss: 0.0041 - accuracy: 0.9996 - val_loss: 0.0412 - val_accuracy: 0.9967\n",
            "Epoch 43/50\n",
            "38/38 [==============================] - 1s 16ms/step - loss: 0.0058 - accuracy: 0.9996 - val_loss: 0.0373 - val_accuracy: 0.9967\n",
            "Epoch 44/50\n",
            "38/38 [==============================] - 0s 11ms/step - loss: 0.0043 - accuracy: 0.9996 - val_loss: 0.0432 - val_accuracy: 0.9967\n",
            "Epoch 45/50\n",
            "38/38 [==============================] - 0s 11ms/step - loss: 0.0041 - accuracy: 0.9996 - val_loss: 0.0414 - val_accuracy: 0.9967\n",
            "Epoch 46/50\n",
            "38/38 [==============================] - 0s 11ms/step - loss: 0.0043 - accuracy: 0.9996 - val_loss: 0.0361 - val_accuracy: 0.9967\n",
            "Epoch 47/50\n",
            "38/38 [==============================] - 0s 11ms/step - loss: 0.0054 - accuracy: 0.9996 - val_loss: 0.0442 - val_accuracy: 0.9967\n",
            "Epoch 48/50\n",
            "38/38 [==============================] - 0s 11ms/step - loss: 0.0048 - accuracy: 0.9996 - val_loss: 0.0401 - val_accuracy: 0.9967\n",
            "Epoch 49/50\n",
            "38/38 [==============================] - 0s 12ms/step - loss: 0.0025 - accuracy: 0.9996 - val_loss: 0.0439 - val_accuracy: 0.9967\n",
            "Epoch 50/50\n",
            "38/38 [==============================] - 0s 11ms/step - loss: 0.0052 - accuracy: 0.9996 - val_loss: 0.0394 - val_accuracy: 0.9967\n"
          ]
        }
      ]
    },
    {
      "cell_type": "code",
      "source": [
        "from sklearn.metrics import precision_score, recall_score, f1_score, confusion_matrix\n",
        "\n",
        "def evaluate_model(model, X_test, y_test):\n",
        "    y_pred = model.predict(X_test)\n",
        "    y_pred_bin = (y_pred > 0.5).astype(int)\n",
        "    loss, accuracy = model.evaluate(X_test, y_test, verbose=False)\n",
        "    precision = precision_score(y_test, y_pred_bin, average='weighted')\n",
        "    recall = recall_score(y_test, y_pred_bin, average='weighted')\n",
        "    f1 = f1_score(y_test, y_pred_bin, average='weighted')\n",
        "    cm = confusion_matrix(y_test.argmax(axis=1), y_pred_bin.argmax(axis=1))\n",
        "    print(\"Confusion Matrix:\\n\", cm)\n",
        "    print(\"Loss: {:.4f}\\nAccuracy: {:.4f}\\nPrecision: {:.4f}\\nRecall: {:.4f}\\nF1 Score: {:.4f}\".format(loss, accuracy, precision, recall, f1))"
      ],
      "metadata": {
        "id": "eVkizJ0lxofU"
      },
      "execution_count": 51,
      "outputs": []
    },
    {
      "cell_type": "code",
      "source": [
        "evaluate_model(model, x_test, y_test)\n",
        "\n"
      ],
      "metadata": {
        "colab": {
          "base_uri": "https://localhost:8080/"
        },
        "id": "InhjMeX609ZF",
        "outputId": "4e871d11-bf30-4af4-9b0a-fc2bff9ba7fa"
      },
      "execution_count": 52,
      "outputs": [
        {
          "output_type": "stream",
          "name": "stdout",
          "text": [
            "19/19 [==============================] - 0s 2ms/step\n",
            "Confusion Matrix:\n",
            " [[  0   2]\n",
            " [  0 598]]\n",
            "Loss: 0.0394\n",
            "Accuracy: 0.9967\n",
            "Precision: 0.9933\n",
            "Recall: 0.9967\n",
            "F1 Score: 0.9950\n"
          ]
        },
        {
          "output_type": "stream",
          "name": "stderr",
          "text": [
            "/usr/local/lib/python3.8/dist-packages/sklearn/metrics/_classification.py:1318: UndefinedMetricWarning: Precision is ill-defined and being set to 0.0 in labels with no predicted samples. Use `zero_division` parameter to control this behavior.\n",
            "  _warn_prf(average, modifier, msg_start, len(result))\n"
          ]
        }
      ]
    }
  ]
}