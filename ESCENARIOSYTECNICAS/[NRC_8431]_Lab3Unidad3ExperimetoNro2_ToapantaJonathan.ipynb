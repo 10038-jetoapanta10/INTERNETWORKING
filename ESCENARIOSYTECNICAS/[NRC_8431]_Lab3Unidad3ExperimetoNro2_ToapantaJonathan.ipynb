{
  "nbformat": 4,
  "nbformat_minor": 0,
  "metadata": {
    "colab": {
      "provenance": []
    },
    "kernelspec": {
      "name": "python3",
      "display_name": "Python 3"
    },
    "language_info": {
      "name": "python"
    }
  },
  "cells": [
    {
      "cell_type": "markdown",
      "source": [
        "# Escenarios experimentales Internetworking\n",
        "Presentado por: Jonathan Toapanta\n",
        "Fecha: 23/02/2023\n"
      ],
      "metadata": {
        "id": "ZG0VXm9biyQD"
      }
    },
    {
      "cell_type": "code",
      "source": [
        "import pandas as pd\n",
        "import numpy as np\n",
        "import matplotlib.pyplot as plt #Gives us Graphics\n",
        "url = 'https://raw.githubusercontent.com/beespinosa1/Inter/main/Escenario1.csv'\n",
        "df = pd.read_csv(url)\n",
        "df= pd.read_csv(url,low_memory=False)\n",
        "dataframe= pd.read_csv(url,low_memory=False)\n"
      ],
      "metadata": {
        "id": "Uty1RcGecQ8j"
      },
      "execution_count": 69,
      "outputs": []
    },
    {
      "cell_type": "code",
      "source": [
        "# Normalise the data\n",
        "def dfNormalize(df):\n",
        "    for feature_name in df.columns:\n",
        "        df.loc[:,feature_name]= pd.to_numeric(df.loc[:,feature_name], errors='coerce').fillna(0)\n",
        "        max_value = df[feature_name].max()\n",
        "        min_value = df[feature_name].min()   \n",
        "        if (max_value - min_value) > 0:\n",
        "            df.loc[:,feature_name] = (df.loc[:,feature_name] - min_value) / (max_value - min_value)\n",
        "        else:\n",
        "            df.loc[:,feature_name] = (df.loc[:,feature_name]- min_value)    \n",
        "    return df\n"
      ],
      "metadata": {
        "id": "u6_2J9SVckTj"
      },
      "execution_count": 70,
      "outputs": []
    },
    {
      "cell_type": "code",
      "source": [
        "dataframe.shape\n",
        "dataframe = dataframe.reindex(np.random.permutation(dataframe.index)).copy()\n",
        "print(dataframe.describe())\n",
        "print(list(dataframe))\n"
      ],
      "metadata": {
        "colab": {
          "base_uri": "https://localhost:8080/"
        },
        "id": "ZAqtSoFackqb",
        "outputId": "fa8d2dae-133d-4ebe-8cfc-01535cd7f8f6"
      },
      "execution_count": 71,
      "outputs": [
        {
          "output_type": "stream",
          "name": "stdout",
          "text": [
            "        Source Port   Destination Port   Protocol   Flow Duration  \\\n",
            "count   3000.000000        3000.000000     3000.0    3.000000e+03   \n",
            "mean   47711.509667         473.548333        6.0    7.172773e+06   \n",
            "std     8791.730134         704.797817        0.0    3.617904e+06   \n",
            "min    33071.000000         110.000000        6.0    3.300000e+01   \n",
            "25%    36922.000000         443.000000        6.0    4.802248e+06   \n",
            "50%    51024.000000         443.000000        6.0    9.343494e+06   \n",
            "75%    54453.000000         443.000000        6.0    9.949760e+06   \n",
            "max    60740.000000        9010.000000        6.0    1.000000e+07   \n",
            "\n",
            "        Flow Bytes/s   Flow Packets/s   Flow IAT Mean   Flow IAT Std  \\\n",
            "count   3.000000e+03      3000.000000    3.000000e+03   3.000000e+03   \n",
            "mean    4.154924e+05      1194.847820    2.036651e+05   4.830987e+05   \n",
            "std     1.855317e+06      6043.023449    4.521030e+05   8.843235e+05   \n",
            "min     0.000000e+00         0.400114    3.300000e+01   0.000000e+00   \n",
            "25%     1.931392e+03         5.558261    5.252221e+03   2.792681e+04   \n",
            "50%     2.383443e+04        39.962256    2.544766e+04   1.515376e+05   \n",
            "75%     1.449901e+05       190.769344    1.928832e+05   5.166354e+05   \n",
            "max     2.710256e+07     60606.060606    3.332380e+06   5.771646e+06   \n",
            "\n",
            "        Flow IAT Max   Flow IAT Min  ...   Bwd IAT Max   Bwd IAT Min  \\\n",
            "count   3.000000e+03    3000.000000  ...  3.000000e+03  3.000000e+03   \n",
            "mean    2.236806e+06      72.414667  ...  2.054509e+06  1.179314e+05   \n",
            "std     2.499852e+06    1202.991980  ...  2.363922e+06  7.455812e+05   \n",
            "min     3.300000e+01    -430.000000  ...  0.000000e+00 -3.270000e+02   \n",
            "25%     3.633895e+05       0.000000  ...  3.309715e+05  2.000000e+00   \n",
            "50%     1.117264e+06       6.000000  ...  9.746735e+05  5.000000e+00   \n",
            "75%     3.590422e+06      39.000000  ...  3.236187e+06  3.482500e+02   \n",
            "max     9.996903e+06   38210.000000  ...  9.996903e+06  9.996903e+06   \n",
            "\n",
            "        Active Mean   Active Std    Active Max    Active Min     Idle Mean  \\\n",
            "count  3.000000e+03       3000.0  3.000000e+03  3.000000e+03  3.000000e+03   \n",
            "mean   8.100382e+04          0.0  8.100382e+04  8.100382e+04  1.019598e+06   \n",
            "std    4.092219e+05          0.0  4.092219e+05  4.092219e+05  2.606338e+06   \n",
            "min    0.000000e+00          0.0  0.000000e+00  0.000000e+00  0.000000e+00   \n",
            "25%    0.000000e+00          0.0  0.000000e+00  0.000000e+00  0.000000e+00   \n",
            "50%    0.000000e+00          0.0  0.000000e+00  0.000000e+00  0.000000e+00   \n",
            "75%    0.000000e+00          0.0  0.000000e+00  0.000000e+00  0.000000e+00   \n",
            "max    4.823748e+06          0.0  4.823748e+06  4.823748e+06  9.996903e+06   \n",
            "\n",
            "        Idle Std      Idle Max      Idle Min  \n",
            "count     3000.0  3.000000e+03  3.000000e+03  \n",
            "mean         0.0  1.019598e+06  1.019598e+06  \n",
            "std          0.0  2.606338e+06  2.606338e+06  \n",
            "min          0.0  0.000000e+00  0.000000e+00  \n",
            "25%          0.0  0.000000e+00  0.000000e+00  \n",
            "50%          0.0  0.000000e+00  0.000000e+00  \n",
            "75%          0.0  0.000000e+00  0.000000e+00  \n",
            "max          0.0  9.996903e+06  9.996903e+06  \n",
            "\n",
            "[8 rows x 26 columns]\n",
            "['Source IP', ' Source Port', ' Destination IP', ' Destination Port', ' Protocol', ' Flow Duration', ' Flow Bytes/s', ' Flow Packets/s', ' Flow IAT Mean', ' Flow IAT Std', ' Flow IAT Max', ' Flow IAT Min', 'Fwd IAT Mean', ' Fwd IAT Std', ' Fwd IAT Max', ' Fwd IAT Min', 'Bwd IAT Mean', ' Bwd IAT Std', ' Bwd IAT Max', ' Bwd IAT Min', 'Active Mean', ' Active Std', ' Active Max', ' Active Min', 'Idle Mean', ' Idle Std', ' Idle Max', ' Idle Min', 'label']\n"
          ]
        }
      ]
    },
    {
      "cell_type": "code",
      "source": [
        "keys = dataframe.keys()\n",
        "\n",
        "data_to_process = dataframe[keys[4:len(keys)-1]].copy()\n",
        "\n",
        "x_normalised=dfNormalize(data_to_process)\n",
        "print(x_normalised.describe())\n"
      ],
      "metadata": {
        "colab": {
          "base_uri": "https://localhost:8080/"
        },
        "id": "PQzOzd1ycmVb",
        "outputId": "0697938a-8f6a-4d31-9a8c-d99d5e91c98c"
      },
      "execution_count": 72,
      "outputs": [
        {
          "output_type": "stream",
          "name": "stdout",
          "text": [
            "        Protocol   Flow Duration   Flow Bytes/s   Flow Packets/s  \\\n",
            "count     3000.0     3000.000000    3000.000000      3000.000000   \n",
            "mean         0.0        0.717276       0.015330         0.019709   \n",
            "std          0.0        0.361792       0.068455         0.099711   \n",
            "min          0.0        0.000000       0.000000         0.000000   \n",
            "25%          0.0        0.480223       0.000071         0.000085   \n",
            "50%          0.0        0.934349       0.000879         0.000653   \n",
            "75%          0.0        0.994976       0.005350         0.003141   \n",
            "max          0.0        1.000000       1.000000         1.000000   \n",
            "\n",
            "        Flow IAT Mean   Flow IAT Std   Flow IAT Max   Flow IAT Min  \\\n",
            "count     3000.000000    3000.000000    3000.000000    3000.000000   \n",
            "mean         0.061108       0.083702       0.223747       0.013002   \n",
            "std          0.135671       0.153219       0.250063       0.031133   \n",
            "min          0.000000       0.000000       0.000000       0.000000   \n",
            "25%          0.001566       0.004839       0.036347       0.011128   \n",
            "50%          0.007627       0.026256       0.111758       0.011284   \n",
            "75%          0.057872       0.089513       0.359151       0.012138   \n",
            "max          1.000000       1.000000       1.000000       1.000000   \n",
            "\n",
            "       Fwd IAT Mean   Fwd IAT Std  ...   Bwd IAT Max   Bwd IAT Min  \\\n",
            "count   3000.000000   3000.000000  ...   3000.000000   3000.000000   \n",
            "mean       0.042749      0.086124  ...      0.205515      0.011829   \n",
            "std        0.097302      0.155639  ...      0.236465      0.074579   \n",
            "min        0.000000      0.000000  ...      0.000000      0.000000   \n",
            "25%        0.001291      0.005066  ...      0.033107      0.000033   \n",
            "50%        0.007185      0.026965  ...      0.097498      0.000033   \n",
            "75%        0.041050      0.090463  ...      0.323719      0.000068   \n",
            "max        1.000000      1.000000  ...      1.000000      1.000000   \n",
            "\n",
            "       Active Mean   Active Std   Active Max   Active Min    Idle Mean  \\\n",
            "count  3000.000000       3000.0  3000.000000  3000.000000  3000.000000   \n",
            "mean      0.016793          0.0     0.016793     0.016793     0.101991   \n",
            "std       0.084835          0.0     0.084835     0.084835     0.260715   \n",
            "min       0.000000          0.0     0.000000     0.000000     0.000000   \n",
            "25%       0.000000          0.0     0.000000     0.000000     0.000000   \n",
            "50%       0.000000          0.0     0.000000     0.000000     0.000000   \n",
            "75%       0.000000          0.0     0.000000     0.000000     0.000000   \n",
            "max       1.000000          0.0     1.000000     1.000000     1.000000   \n",
            "\n",
            "        Idle Std     Idle Max     Idle Min  \n",
            "count     3000.0  3000.000000  3000.000000  \n",
            "mean         0.0     0.101991     0.101991  \n",
            "std          0.0     0.260715     0.260715  \n",
            "min          0.0     0.000000     0.000000  \n",
            "25%          0.0     0.000000     0.000000  \n",
            "50%          0.0     0.000000     0.000000  \n",
            "75%          0.0     0.000000     0.000000  \n",
            "max          0.0     1.000000     1.000000  \n",
            "\n",
            "[8 rows x 24 columns]\n"
          ]
        }
      ]
    },
    {
      "cell_type": "code",
      "source": [
        "# get the train and test data\n",
        "y = dataframe['label']\n",
        "label_map = {'AUDIO': 0, 'BROWSING': 1, \n",
        "             'CHAT': 2, 'FILE-TRANSFER' : 3,\n",
        "             'MAIL' : 4, 'P2P' : 5,\n",
        "             'VIDEO' : 6, 'VOIP' : 7}\n",
        "change_labels = lambda x: label_map[x] if x in label_map else -1\n",
        "y_normalised = dataframe['label'].apply(change_labels)"
      ],
      "metadata": {
        "id": "CEAU5WxfcmcK"
      },
      "execution_count": 73,
      "outputs": []
    },
    {
      "cell_type": "code",
      "source": [
        "#Import required libraries\n",
        "from keras.models import Sequential\n",
        "from keras.layers import Conv2D, MaxPooling2D, Dropout, Flatten, Dense"
      ],
      "metadata": {
        "id": "KzmoqSjwcmgT"
      },
      "execution_count": 74,
      "outputs": []
    },
    {
      "cell_type": "code",
      "source": [
        "model = Sequential()\n",
        "model.add(Conv2D(32, kernel_size=(1, 3), activation='relu', input_shape=(1, x_normalised.shape[1], 1)))\n",
        "model.add(MaxPooling2D(pool_size=(1, 2)))\n",
        "model.add(Conv2D(64, kernel_size=(1, 3), activation='relu'))\n",
        "model.add(MaxPooling2D(pool_size=(1, 2), padding='same'))\n",
        "model.add(Dropout(0.25))\n",
        "model.add(Flatten())\n",
        "model.add(Dense(128, activation='relu'))\n",
        "model.add(Dropout(0.5))\n",
        "model.add(Dense(8, activation='softmax'))"
      ],
      "metadata": {
        "id": "RV-_f2FBcmoC"
      },
      "execution_count": 78,
      "outputs": []
    },
    {
      "cell_type": "code",
      "source": [
        "model.compile(loss='categorical_crossentropy', optimizer='adam', metrics=['accuracy'])"
      ],
      "metadata": {
        "id": "KLI6vfyTcviL"
      },
      "execution_count": 79,
      "outputs": []
    },
    {
      "cell_type": "code",
      "source": [
        "#Convert labels to one-hot encoding\n",
        "from keras.utils import to_categorical\n",
        "y_onehot = to_categorical(y_normalised, num_classes=8)"
      ],
      "metadata": {
        "id": "vVEfuIJ-cz2b"
      },
      "execution_count": 80,
      "outputs": []
    },
    {
      "cell_type": "code",
      "source": [
        "#Split data into training and testing sets\n",
        "from sklearn.model_selection import train_test_split\n",
        "X_train, X_test, y_train, y_test = train_test_split(x_normalised, y_onehot, test_size=0.3, random_state=42)"
      ],
      "metadata": {
        "id": "6DSCC3OGc1MG"
      },
      "execution_count": 81,
      "outputs": []
    },
    {
      "cell_type": "code",
      "source": [
        "import numpy as np\n",
        "\n",
        "X_train = np.array(X_train)\n",
        "history = model.fit(X_train.reshape(X_train.shape[0],1,x_normalised.shape[1],1), y_train, epochs=50, batch_size=32, verbose=1, validation_split=0.2)\n"
      ],
      "metadata": {
        "colab": {
          "base_uri": "https://localhost:8080/"
        },
        "id": "Us4NgpLcc52C",
        "outputId": "f4be30b5-a328-4a23-e6ba-b290d4949318"
      },
      "execution_count": 83,
      "outputs": [
        {
          "output_type": "stream",
          "name": "stdout",
          "text": [
            "Epoch 1/50\n",
            "53/53 [==============================] - 3s 26ms/step - loss: 1.4308 - accuracy: 0.5077 - val_loss: 1.0149 - val_accuracy: 0.5381\n",
            "Epoch 2/50\n",
            "53/53 [==============================] - 0s 6ms/step - loss: 1.0546 - accuracy: 0.5405 - val_loss: 0.8967 - val_accuracy: 0.6262\n",
            "Epoch 3/50\n",
            "53/53 [==============================] - 0s 6ms/step - loss: 0.9607 - accuracy: 0.5744 - val_loss: 0.8303 - val_accuracy: 0.6667\n",
            "Epoch 4/50\n",
            "53/53 [==============================] - 0s 7ms/step - loss: 0.9245 - accuracy: 0.5970 - val_loss: 0.7756 - val_accuracy: 0.6690\n",
            "Epoch 5/50\n",
            "53/53 [==============================] - 0s 7ms/step - loss: 0.8831 - accuracy: 0.6262 - val_loss: 0.7640 - val_accuracy: 0.6333\n",
            "Epoch 6/50\n",
            "53/53 [==============================] - 0s 6ms/step - loss: 0.8546 - accuracy: 0.6315 - val_loss: 0.7381 - val_accuracy: 0.6500\n",
            "Epoch 7/50\n",
            "53/53 [==============================] - 0s 9ms/step - loss: 0.8547 - accuracy: 0.6357 - val_loss: 0.7286 - val_accuracy: 0.6548\n",
            "Epoch 8/50\n",
            "53/53 [==============================] - 1s 10ms/step - loss: 0.8371 - accuracy: 0.6571 - val_loss: 0.7168 - val_accuracy: 0.6690\n",
            "Epoch 9/50\n",
            "53/53 [==============================] - 1s 11ms/step - loss: 0.8306 - accuracy: 0.6518 - val_loss: 0.7068 - val_accuracy: 0.6786\n",
            "Epoch 10/50\n",
            "53/53 [==============================] - 0s 9ms/step - loss: 0.8117 - accuracy: 0.6452 - val_loss: 0.6944 - val_accuracy: 0.6857\n",
            "Epoch 11/50\n",
            "53/53 [==============================] - 0s 9ms/step - loss: 0.8001 - accuracy: 0.6786 - val_loss: 0.7029 - val_accuracy: 0.6595\n",
            "Epoch 12/50\n",
            "53/53 [==============================] - 0s 8ms/step - loss: 0.8165 - accuracy: 0.6565 - val_loss: 0.7121 - val_accuracy: 0.6952\n",
            "Epoch 13/50\n",
            "53/53 [==============================] - 0s 7ms/step - loss: 0.7994 - accuracy: 0.6595 - val_loss: 0.7072 - val_accuracy: 0.7024\n",
            "Epoch 14/50\n",
            "53/53 [==============================] - 0s 7ms/step - loss: 0.7870 - accuracy: 0.6804 - val_loss: 0.6909 - val_accuracy: 0.6905\n",
            "Epoch 15/50\n",
            "53/53 [==============================] - 0s 6ms/step - loss: 0.7731 - accuracy: 0.6940 - val_loss: 0.6785 - val_accuracy: 0.6929\n",
            "Epoch 16/50\n",
            "53/53 [==============================] - 0s 7ms/step - loss: 0.7718 - accuracy: 0.6958 - val_loss: 0.7018 - val_accuracy: 0.6905\n",
            "Epoch 17/50\n",
            "53/53 [==============================] - 0s 6ms/step - loss: 0.7750 - accuracy: 0.6744 - val_loss: 0.6769 - val_accuracy: 0.7024\n",
            "Epoch 18/50\n",
            "53/53 [==============================] - 0s 5ms/step - loss: 0.7634 - accuracy: 0.6994 - val_loss: 0.6695 - val_accuracy: 0.7071\n",
            "Epoch 19/50\n",
            "53/53 [==============================] - 0s 5ms/step - loss: 0.7627 - accuracy: 0.6929 - val_loss: 0.6547 - val_accuracy: 0.7143\n",
            "Epoch 20/50\n",
            "53/53 [==============================] - 0s 6ms/step - loss: 0.7570 - accuracy: 0.6958 - val_loss: 0.6701 - val_accuracy: 0.7095\n",
            "Epoch 21/50\n",
            "53/53 [==============================] - 0s 6ms/step - loss: 0.7470 - accuracy: 0.7054 - val_loss: 0.6505 - val_accuracy: 0.7214\n",
            "Epoch 22/50\n",
            "53/53 [==============================] - 0s 6ms/step - loss: 0.7474 - accuracy: 0.7107 - val_loss: 0.6627 - val_accuracy: 0.7095\n",
            "Epoch 23/50\n",
            "53/53 [==============================] - 0s 6ms/step - loss: 0.7362 - accuracy: 0.7071 - val_loss: 0.6756 - val_accuracy: 0.7119\n",
            "Epoch 24/50\n",
            "53/53 [==============================] - 0s 5ms/step - loss: 0.7330 - accuracy: 0.7113 - val_loss: 0.6548 - val_accuracy: 0.7190\n",
            "Epoch 25/50\n",
            "53/53 [==============================] - 0s 5ms/step - loss: 0.7229 - accuracy: 0.7202 - val_loss: 0.6498 - val_accuracy: 0.7167\n",
            "Epoch 26/50\n",
            "53/53 [==============================] - 0s 5ms/step - loss: 0.7302 - accuracy: 0.7196 - val_loss: 0.6536 - val_accuracy: 0.7357\n",
            "Epoch 27/50\n",
            "53/53 [==============================] - 0s 6ms/step - loss: 0.7268 - accuracy: 0.7155 - val_loss: 0.6459 - val_accuracy: 0.7190\n",
            "Epoch 28/50\n",
            "53/53 [==============================] - 0s 6ms/step - loss: 0.7207 - accuracy: 0.7220 - val_loss: 0.6405 - val_accuracy: 0.7190\n",
            "Epoch 29/50\n",
            "53/53 [==============================] - 0s 6ms/step - loss: 0.7189 - accuracy: 0.7220 - val_loss: 0.6279 - val_accuracy: 0.7167\n",
            "Epoch 30/50\n",
            "53/53 [==============================] - 0s 5ms/step - loss: 0.6994 - accuracy: 0.7369 - val_loss: 0.6370 - val_accuracy: 0.7190\n",
            "Epoch 31/50\n",
            "53/53 [==============================] - 0s 6ms/step - loss: 0.7137 - accuracy: 0.7262 - val_loss: 0.6433 - val_accuracy: 0.7238\n",
            "Epoch 32/50\n",
            "53/53 [==============================] - 0s 6ms/step - loss: 0.7094 - accuracy: 0.7196 - val_loss: 0.6499 - val_accuracy: 0.7357\n",
            "Epoch 33/50\n",
            "53/53 [==============================] - 0s 7ms/step - loss: 0.7161 - accuracy: 0.7143 - val_loss: 0.6381 - val_accuracy: 0.7238\n",
            "Epoch 34/50\n",
            "53/53 [==============================] - 0s 6ms/step - loss: 0.7161 - accuracy: 0.7226 - val_loss: 0.6352 - val_accuracy: 0.7262\n",
            "Epoch 35/50\n",
            "53/53 [==============================] - 0s 5ms/step - loss: 0.6989 - accuracy: 0.7298 - val_loss: 0.6197 - val_accuracy: 0.7357\n",
            "Epoch 36/50\n",
            "53/53 [==============================] - 0s 6ms/step - loss: 0.6956 - accuracy: 0.7280 - val_loss: 0.6160 - val_accuracy: 0.7571\n",
            "Epoch 37/50\n",
            "53/53 [==============================] - 0s 6ms/step - loss: 0.6859 - accuracy: 0.7381 - val_loss: 0.6147 - val_accuracy: 0.7405\n",
            "Epoch 38/50\n",
            "53/53 [==============================] - 0s 5ms/step - loss: 0.6905 - accuracy: 0.7298 - val_loss: 0.6350 - val_accuracy: 0.7476\n",
            "Epoch 39/50\n",
            "53/53 [==============================] - 0s 5ms/step - loss: 0.6837 - accuracy: 0.7274 - val_loss: 0.6098 - val_accuracy: 0.7667\n",
            "Epoch 40/50\n",
            "53/53 [==============================] - 0s 5ms/step - loss: 0.6951 - accuracy: 0.7381 - val_loss: 0.6205 - val_accuracy: 0.7476\n",
            "Epoch 41/50\n",
            "53/53 [==============================] - 0s 7ms/step - loss: 0.6815 - accuracy: 0.7369 - val_loss: 0.6098 - val_accuracy: 0.7548\n",
            "Epoch 42/50\n",
            "53/53 [==============================] - 0s 6ms/step - loss: 0.6816 - accuracy: 0.7357 - val_loss: 0.6094 - val_accuracy: 0.7667\n",
            "Epoch 43/50\n",
            "53/53 [==============================] - 0s 8ms/step - loss: 0.6768 - accuracy: 0.7333 - val_loss: 0.6026 - val_accuracy: 0.7548\n",
            "Epoch 44/50\n",
            "53/53 [==============================] - 0s 9ms/step - loss: 0.6730 - accuracy: 0.7393 - val_loss: 0.6368 - val_accuracy: 0.7429\n",
            "Epoch 45/50\n",
            "53/53 [==============================] - 0s 9ms/step - loss: 0.6611 - accuracy: 0.7494 - val_loss: 0.5956 - val_accuracy: 0.7786\n",
            "Epoch 46/50\n",
            "53/53 [==============================] - 0s 9ms/step - loss: 0.6753 - accuracy: 0.7357 - val_loss: 0.5901 - val_accuracy: 0.7643\n",
            "Epoch 47/50\n",
            "53/53 [==============================] - 0s 9ms/step - loss: 0.6576 - accuracy: 0.7399 - val_loss: 0.5922 - val_accuracy: 0.7738\n",
            "Epoch 48/50\n",
            "53/53 [==============================] - 1s 11ms/step - loss: 0.6582 - accuracy: 0.7482 - val_loss: 0.5932 - val_accuracy: 0.7548\n",
            "Epoch 49/50\n",
            "53/53 [==============================] - 0s 6ms/step - loss: 0.6435 - accuracy: 0.7577 - val_loss: 0.5911 - val_accuracy: 0.7595\n",
            "Epoch 50/50\n",
            "53/53 [==============================] - 0s 6ms/step - loss: 0.6460 - accuracy: 0.7387 - val_loss: 0.5961 - val_accuracy: 0.7762\n"
          ]
        }
      ]
    },
    {
      "cell_type": "code",
      "source": [
        "# Evaluate the model on test data\n",
        "score = model.evaluate(X_test.values.reshape(X_test.shape[0],1,x_normalised.shape[1],1), y_test, verbose=1)\n",
        "print('Test accuracy:', score[1])"
      ],
      "metadata": {
        "colab": {
          "base_uri": "https://localhost:8080/"
        },
        "id": "WdWY2tAkc8ZD",
        "outputId": "153c4d05-b837-426e-8d83-5f0ca142e000"
      },
      "execution_count": 100,
      "outputs": [
        {
          "output_type": "stream",
          "name": "stdout",
          "text": [
            "29/29 [==============================] - 0s 2ms/step - loss: 0.6394 - accuracy: 0.7533\n",
            "Test accuracy: 0.753333330154419\n"
          ]
        }
      ]
    }
  ]
}