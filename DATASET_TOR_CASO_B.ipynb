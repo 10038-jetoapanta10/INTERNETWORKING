{
  "nbformat": 4,
  "nbformat_minor": 0,
  "metadata": {
    "colab": {
      "provenance": []
    },
    "kernelspec": {
      "name": "python3",
      "display_name": "Python 3"
    },
    "language_info": {
      "name": "python"
    }
  },
  "cells": [
    {
      "cell_type": "code",
      "execution_count": null,
      "metadata": {
        "colab": {
          "base_uri": "https://localhost:8080/"
        },
        "id": "mcP0FG4Y276Z",
        "outputId": "5cc344a9-eab7-4737-af4a-600981ef453f"
      },
      "outputs": [
        {
          "output_type": "stream",
          "name": "stdout",
          "text": [
            "Drive already mounted at /content/drive; to attempt to forcibly remount, call drive.mount(\"/content/drive\", force_remount=True).\n"
          ]
        }
      ],
      "source": [
        "from google.colab import drive\n",
        "drive.mount('/content/drive')"
      ]
    },
    {
      "cell_type": "code",
      "source": [
        "import pandas as pd\n",
        "import matplotlib.pyplot as plt #Gives us Graphics\n",
        "import seaborn as sns #Libreria para gráficar\n",
        "df = pd.read_excel('/content/drive/My Drive/DatasetB.xlsx')"
      ],
      "metadata": {
        "id": "ZqljTYsY5c8r"
      },
      "execution_count": null,
      "outputs": []
    },
    {
      "cell_type": "code",
      "source": [
        "df.head()"
      ],
      "metadata": {
        "id": "tAkM9UIJ9alK",
        "colab": {
          "base_uri": "https://localhost:8080/",
          "height": 334
        },
        "outputId": "522dab48-0636-40c2-bdc0-70de987e7113"
      },
      "execution_count": null,
      "outputs": [
        {
          "output_type": "execute_result",
          "data": {
            "text/plain": [
              "   Source IP   Source Port  Destination IP   Destination Port   Protocol  \\\n",
              "0  10.0.2.15         57188  82.161.239.177                110          6   \n",
              "1  10.0.2.15         57188  82.161.239.177                110          6   \n",
              "2  10.0.2.15         57188  82.161.239.177                110          6   \n",
              "3  10.0.2.15         57188  82.161.239.177                110          6   \n",
              "4  10.0.2.15         57188  82.161.239.177                110          6   \n",
              "\n",
              "    Flow Duration   Flow Bytes/s   Flow Packets/s   Flow IAT Mean  \\\n",
              "0         7248168   2.112603e+04        29.110804    34515.085714   \n",
              "1         5157723   1.052790e+03         3.683796   286540.166667   \n",
              "2              41   1.324390e+07     48780.487805       41.000000   \n",
              "3         9543565   6.373855e+04        83.930900    11929.456250   \n",
              "4         9987537   1.996166e+05       245.806348     4069.900978   \n",
              "\n",
              "    Flow IAT Std  ...   Bwd IAT Min  Active Mean   Active Std   Active Max  \\\n",
              "0  273869.262513  ...             7            0            0            0   \n",
              "1  878838.525555  ...           451            0            0            0   \n",
              "2       0.000000  ...             0            0            0            0   \n",
              "3   90072.192523  ...             5            0            0            0   \n",
              "4   20365.733229  ...             5            0            0            0   \n",
              "\n",
              "    Active Min  Idle Mean   Idle Std   Idle Max   Idle Min  label  \n",
              "0            0          0          0          0          0  AUDIO  \n",
              "1            0          0          0          0          0  AUDIO  \n",
              "2            0          0          0          0          0  AUDIO  \n",
              "3            0          0          0          0          0  AUDIO  \n",
              "4            0          0          0          0          0  AUDIO  \n",
              "\n",
              "[5 rows x 29 columns]"
            ],
            "text/html": [
              "\n",
              "  <div id=\"df-ba73f466-f13a-4c54-b3dd-16368c26157b\">\n",
              "    <div class=\"colab-df-container\">\n",
              "      <div>\n",
              "<style scoped>\n",
              "    .dataframe tbody tr th:only-of-type {\n",
              "        vertical-align: middle;\n",
              "    }\n",
              "\n",
              "    .dataframe tbody tr th {\n",
              "        vertical-align: top;\n",
              "    }\n",
              "\n",
              "    .dataframe thead th {\n",
              "        text-align: right;\n",
              "    }\n",
              "</style>\n",
              "<table border=\"1\" class=\"dataframe\">\n",
              "  <thead>\n",
              "    <tr style=\"text-align: right;\">\n",
              "      <th></th>\n",
              "      <th>Source IP</th>\n",
              "      <th>Source Port</th>\n",
              "      <th>Destination IP</th>\n",
              "      <th>Destination Port</th>\n",
              "      <th>Protocol</th>\n",
              "      <th>Flow Duration</th>\n",
              "      <th>Flow Bytes/s</th>\n",
              "      <th>Flow Packets/s</th>\n",
              "      <th>Flow IAT Mean</th>\n",
              "      <th>Flow IAT Std</th>\n",
              "      <th>...</th>\n",
              "      <th>Bwd IAT Min</th>\n",
              "      <th>Active Mean</th>\n",
              "      <th>Active Std</th>\n",
              "      <th>Active Max</th>\n",
              "      <th>Active Min</th>\n",
              "      <th>Idle Mean</th>\n",
              "      <th>Idle Std</th>\n",
              "      <th>Idle Max</th>\n",
              "      <th>Idle Min</th>\n",
              "      <th>label</th>\n",
              "    </tr>\n",
              "  </thead>\n",
              "  <tbody>\n",
              "    <tr>\n",
              "      <th>0</th>\n",
              "      <td>10.0.2.15</td>\n",
              "      <td>57188</td>\n",
              "      <td>82.161.239.177</td>\n",
              "      <td>110</td>\n",
              "      <td>6</td>\n",
              "      <td>7248168</td>\n",
              "      <td>2.112603e+04</td>\n",
              "      <td>29.110804</td>\n",
              "      <td>34515.085714</td>\n",
              "      <td>273869.262513</td>\n",
              "      <td>...</td>\n",
              "      <td>7</td>\n",
              "      <td>0</td>\n",
              "      <td>0</td>\n",
              "      <td>0</td>\n",
              "      <td>0</td>\n",
              "      <td>0</td>\n",
              "      <td>0</td>\n",
              "      <td>0</td>\n",
              "      <td>0</td>\n",
              "      <td>AUDIO</td>\n",
              "    </tr>\n",
              "    <tr>\n",
              "      <th>1</th>\n",
              "      <td>10.0.2.15</td>\n",
              "      <td>57188</td>\n",
              "      <td>82.161.239.177</td>\n",
              "      <td>110</td>\n",
              "      <td>6</td>\n",
              "      <td>5157723</td>\n",
              "      <td>1.052790e+03</td>\n",
              "      <td>3.683796</td>\n",
              "      <td>286540.166667</td>\n",
              "      <td>878838.525555</td>\n",
              "      <td>...</td>\n",
              "      <td>451</td>\n",
              "      <td>0</td>\n",
              "      <td>0</td>\n",
              "      <td>0</td>\n",
              "      <td>0</td>\n",
              "      <td>0</td>\n",
              "      <td>0</td>\n",
              "      <td>0</td>\n",
              "      <td>0</td>\n",
              "      <td>AUDIO</td>\n",
              "    </tr>\n",
              "    <tr>\n",
              "      <th>2</th>\n",
              "      <td>10.0.2.15</td>\n",
              "      <td>57188</td>\n",
              "      <td>82.161.239.177</td>\n",
              "      <td>110</td>\n",
              "      <td>6</td>\n",
              "      <td>41</td>\n",
              "      <td>1.324390e+07</td>\n",
              "      <td>48780.487805</td>\n",
              "      <td>41.000000</td>\n",
              "      <td>0.000000</td>\n",
              "      <td>...</td>\n",
              "      <td>0</td>\n",
              "      <td>0</td>\n",
              "      <td>0</td>\n",
              "      <td>0</td>\n",
              "      <td>0</td>\n",
              "      <td>0</td>\n",
              "      <td>0</td>\n",
              "      <td>0</td>\n",
              "      <td>0</td>\n",
              "      <td>AUDIO</td>\n",
              "    </tr>\n",
              "    <tr>\n",
              "      <th>3</th>\n",
              "      <td>10.0.2.15</td>\n",
              "      <td>57188</td>\n",
              "      <td>82.161.239.177</td>\n",
              "      <td>110</td>\n",
              "      <td>6</td>\n",
              "      <td>9543565</td>\n",
              "      <td>6.373855e+04</td>\n",
              "      <td>83.930900</td>\n",
              "      <td>11929.456250</td>\n",
              "      <td>90072.192523</td>\n",
              "      <td>...</td>\n",
              "      <td>5</td>\n",
              "      <td>0</td>\n",
              "      <td>0</td>\n",
              "      <td>0</td>\n",
              "      <td>0</td>\n",
              "      <td>0</td>\n",
              "      <td>0</td>\n",
              "      <td>0</td>\n",
              "      <td>0</td>\n",
              "      <td>AUDIO</td>\n",
              "    </tr>\n",
              "    <tr>\n",
              "      <th>4</th>\n",
              "      <td>10.0.2.15</td>\n",
              "      <td>57188</td>\n",
              "      <td>82.161.239.177</td>\n",
              "      <td>110</td>\n",
              "      <td>6</td>\n",
              "      <td>9987537</td>\n",
              "      <td>1.996166e+05</td>\n",
              "      <td>245.806348</td>\n",
              "      <td>4069.900978</td>\n",
              "      <td>20365.733229</td>\n",
              "      <td>...</td>\n",
              "      <td>5</td>\n",
              "      <td>0</td>\n",
              "      <td>0</td>\n",
              "      <td>0</td>\n",
              "      <td>0</td>\n",
              "      <td>0</td>\n",
              "      <td>0</td>\n",
              "      <td>0</td>\n",
              "      <td>0</td>\n",
              "      <td>AUDIO</td>\n",
              "    </tr>\n",
              "  </tbody>\n",
              "</table>\n",
              "<p>5 rows × 29 columns</p>\n",
              "</div>\n",
              "      <button class=\"colab-df-convert\" onclick=\"convertToInteractive('df-ba73f466-f13a-4c54-b3dd-16368c26157b')\"\n",
              "              title=\"Convert this dataframe to an interactive table.\"\n",
              "              style=\"display:none;\">\n",
              "        \n",
              "  <svg xmlns=\"http://www.w3.org/2000/svg\" height=\"24px\"viewBox=\"0 0 24 24\"\n",
              "       width=\"24px\">\n",
              "    <path d=\"M0 0h24v24H0V0z\" fill=\"none\"/>\n",
              "    <path d=\"M18.56 5.44l.94 2.06.94-2.06 2.06-.94-2.06-.94-.94-2.06-.94 2.06-2.06.94zm-11 1L8.5 8.5l.94-2.06 2.06-.94-2.06-.94L8.5 2.5l-.94 2.06-2.06.94zm10 10l.94 2.06.94-2.06 2.06-.94-2.06-.94-.94-2.06-.94 2.06-2.06.94z\"/><path d=\"M17.41 7.96l-1.37-1.37c-.4-.4-.92-.59-1.43-.59-.52 0-1.04.2-1.43.59L10.3 9.45l-7.72 7.72c-.78.78-.78 2.05 0 2.83L4 21.41c.39.39.9.59 1.41.59.51 0 1.02-.2 1.41-.59l7.78-7.78 2.81-2.81c.8-.78.8-2.07 0-2.86zM5.41 20L4 18.59l7.72-7.72 1.47 1.35L5.41 20z\"/>\n",
              "  </svg>\n",
              "      </button>\n",
              "      \n",
              "  <style>\n",
              "    .colab-df-container {\n",
              "      display:flex;\n",
              "      flex-wrap:wrap;\n",
              "      gap: 12px;\n",
              "    }\n",
              "\n",
              "    .colab-df-convert {\n",
              "      background-color: #E8F0FE;\n",
              "      border: none;\n",
              "      border-radius: 50%;\n",
              "      cursor: pointer;\n",
              "      display: none;\n",
              "      fill: #1967D2;\n",
              "      height: 32px;\n",
              "      padding: 0 0 0 0;\n",
              "      width: 32px;\n",
              "    }\n",
              "\n",
              "    .colab-df-convert:hover {\n",
              "      background-color: #E2EBFA;\n",
              "      box-shadow: 0px 1px 2px rgba(60, 64, 67, 0.3), 0px 1px 3px 1px rgba(60, 64, 67, 0.15);\n",
              "      fill: #174EA6;\n",
              "    }\n",
              "\n",
              "    [theme=dark] .colab-df-convert {\n",
              "      background-color: #3B4455;\n",
              "      fill: #D2E3FC;\n",
              "    }\n",
              "\n",
              "    [theme=dark] .colab-df-convert:hover {\n",
              "      background-color: #434B5C;\n",
              "      box-shadow: 0px 1px 3px 1px rgba(0, 0, 0, 0.15);\n",
              "      filter: drop-shadow(0px 1px 2px rgba(0, 0, 0, 0.3));\n",
              "      fill: #FFFFFF;\n",
              "    }\n",
              "  </style>\n",
              "\n",
              "      <script>\n",
              "        const buttonEl =\n",
              "          document.querySelector('#df-ba73f466-f13a-4c54-b3dd-16368c26157b button.colab-df-convert');\n",
              "        buttonEl.style.display =\n",
              "          google.colab.kernel.accessAllowed ? 'block' : 'none';\n",
              "\n",
              "        async function convertToInteractive(key) {\n",
              "          const element = document.querySelector('#df-ba73f466-f13a-4c54-b3dd-16368c26157b');\n",
              "          const dataTable =\n",
              "            await google.colab.kernel.invokeFunction('convertToInteractive',\n",
              "                                                     [key], {});\n",
              "          if (!dataTable) return;\n",
              "\n",
              "          const docLinkHtml = 'Like what you see? Visit the ' +\n",
              "            '<a target=\"_blank\" href=https://colab.research.google.com/notebooks/data_table.ipynb>data table notebook</a>'\n",
              "            + ' to learn more about interactive tables.';\n",
              "          element.innerHTML = '';\n",
              "          dataTable['output_type'] = 'display_data';\n",
              "          await google.colab.output.renderOutput(dataTable, element);\n",
              "          const docLink = document.createElement('div');\n",
              "          docLink.innerHTML = docLinkHtml;\n",
              "          element.appendChild(docLink);\n",
              "        }\n",
              "      </script>\n",
              "    </div>\n",
              "  </div>\n",
              "  "
            ]
          },
          "metadata": {},
          "execution_count": 37
        }
      ]
    },
    {
      "cell_type": "markdown",
      "source": [
        "# **ATRIBUTOS A UTILIZAR**\n",
        "\n",
        "\n",
        "\n",
        "*   Flow Duration\n",
        "*   Flow Bytes/s\n",
        "*   Flow PACKETS\n",
        "*   FLOW IAT MEAN\n",
        "*   FWD IAT MEAN\n",
        "*   BWD IAT MEAN\n",
        "\n",
        "* **Y** = LABEL (CATEGORCI  8 TIPOS)\n",
        "\n",
        "\n",
        "\n"
      ],
      "metadata": {
        "id": "9gNOxJNoeesR"
      }
    },
    {
      "cell_type": "code",
      "source": [
        "df.dtypes"
      ],
      "metadata": {
        "colab": {
          "base_uri": "https://localhost:8080/"
        },
        "id": "_z_zH6rMIYQr",
        "outputId": "169a74e9-dc92-4493-f426-6578e13400f4"
      },
      "execution_count": null,
      "outputs": [
        {
          "output_type": "execute_result",
          "data": {
            "text/plain": [
              "Source IP             object\n",
              " Source Port           int64\n",
              " Destination IP       object\n",
              " Destination Port      int64\n",
              " Protocol              int64\n",
              " Flow Duration         int64\n",
              " Flow Bytes/s        float64\n",
              " Flow Packets/s      float64\n",
              " Flow IAT Mean       float64\n",
              " Flow IAT Std        float64\n",
              " Flow IAT Max          int64\n",
              " Flow IAT Min          int64\n",
              "Fwd IAT Mean         float64\n",
              " Fwd IAT Std         float64\n",
              " Fwd IAT Max           int64\n",
              " Fwd IAT Min           int64\n",
              "Bwd IAT Mean         float64\n",
              " Bwd IAT Std         float64\n",
              " Bwd IAT Max           int64\n",
              " Bwd IAT Min           int64\n",
              "Active Mean            int64\n",
              " Active Std            int64\n",
              " Active Max            int64\n",
              " Active Min            int64\n",
              "Idle Mean              int64\n",
              " Idle Std              int64\n",
              " Idle Max              int64\n",
              " Idle Min              int64\n",
              "label                 object\n",
              "dtype: object"
            ]
          },
          "metadata": {},
          "execution_count": 38
        }
      ]
    },
    {
      "cell_type": "markdown",
      "source": [
        "como se armo el escener]ario \n",
        "diferencia \n"
      ],
      "metadata": {
        "id": "x_qBk1pF2tCo"
      }
    },
    {
      "cell_type": "markdown",
      "source": [
        "# Analisis \n",
        "\n",
        "1. Source IP : direccion ip de destino\n",
        "2.\tSource Port: el número de puertos de destino\n",
        "3.\tDestination IP : direccion ip de destino\n",
        "4.\tDst Port: el número de puerto destino\n",
        "5.\tProtocol: el protocolo de red utilizado (TCP, UDP, etc.)\n",
        "6.\tFlow Duration: la duración total del flujo en segundos\n",
        "7.\tTotal Fwd Packets: el número total de paquetes enviados hacia adelante en el flujo\n",
        "8.\tTotal Backward Packets: el número total de paquetes enviados hacia atrás en el flujo\n",
        "9.\tTotal Length of Fwd Packets: la longitud total de los paquetes enviados hacia adelante en el flujo\n",
        "10.\t**Total Length** of Bwd Packets: la longitud total de los paquetes enviados hacia atrás en el flujo\n",
        "11.\tFwd Packet Length Max: la longitud máxima de un paquete enviado hacia adelante en el flujo\n",
        "12.\tFwd Packet Length Min: la longitud mínima de un paquete enviado hacia adelante en el flujo\n",
        "13.\tFwd Packet Length Mean: la longitud promedio de los paquetes enviados hacia adelante en el flujo\n",
        "14.\tBwd Packet Length Max: la longitud máxima de un paquete enviado hacia atrás en el flujo\n",
        "15.\tBwd Packet Length Min: la longitud mínima de un paquete enviado hacia atrás en el flujo\n",
        "16.\tBwd Packet Length Mean: la longitud promedio de los paquetes enviados hacia 8 atrás en el flujo\n",
        "17.\tFlow Bytes/s: la tasa de bytes por segundo en el flujo\n",
        "18.\tFlow Packets/s: la tasa de paquetes por segundo en el flujo\n",
        "19.\tFlow IAT Mean: el tiempo de intervalo medio entre paquetes en el flujo\n",
        "20.\tFlow IAT Std: la desviación estándar del tiempo de intervalo entre paquetes en el flujo\n",
        "21.\tFlow IAT Max: el tiempo máximo de intervalo entre paquetes en el flujo\n",
        "22.\tFlow IAT Min: el tiempo mínimo de intervalo entre paquetes en el flujo\n",
        "23.\tFwd IAT Total: la suma total del tiempo de intervalo de los paquetes enviados hacia adelante en el flujo\n",
        "24.\tFwd IAT Mean: el tiempo de intervalo medio entre los paquetes enviados hacia adelante en el flujo\n",
        "25.\tFwd IAT Std: la desviación estándar del tiempo de intervalo entre los paquetes enviados hacia adelante en el flujo\n",
        "26.\tFwd IAT Max: el tiempo máximo de intervalo entre los paquetes enviados hacia adelante en el flujo\n",
        "27.\tLabel: etiqueta de trafico formato tipo:  AUDIO, BROWSING, CHAT, FILE, TRANSFER, MAIL, P2P, VIDEO, VOIP\n"
      ],
      "metadata": {
        "id": "cOKyXBmT9VYE"
      }
    },
    {
      "cell_type": "code",
      "source": [
        "df.rename(columns={' Flow Duration': 'Flow_Duration'}, inplace=True)\n",
        "Flow_Duration = df[\"Flow_Duration\"]\n",
        "df.Flow_Duration.describe()"
      ],
      "metadata": {
        "colab": {
          "base_uri": "https://localhost:8080/"
        },
        "outputId": "289a253b-d6c2-4853-f612-93f534c64df6",
        "id": "S4tuDI_8NDIQ"
      },
      "execution_count": null,
      "outputs": [
        {
          "output_type": "execute_result",
          "data": {
            "text/plain": [
              "count    2.014000e+03\n",
              "mean     6.948814e+06\n",
              "std      3.572150e+06\n",
              "min      3.500000e+01\n",
              "25%      4.436353e+06\n",
              "50%      8.757549e+06\n",
              "75%      9.888260e+06\n",
              "max      1.000000e+07\n",
              "Name: Flow_Duration, dtype: float64"
            ]
          },
          "metadata": {},
          "execution_count": 40
        }
      ]
    },
    {
      "cell_type": "code",
      "source": [
        "print(df.columns)"
      ],
      "metadata": {
        "colab": {
          "base_uri": "https://localhost:8080/"
        },
        "id": "OgVg2-5aOfD6",
        "outputId": "7a29c65c-ac4b-4707-afc3-7a0724c0d7a7"
      },
      "execution_count": null,
      "outputs": [
        {
          "output_type": "stream",
          "name": "stdout",
          "text": [
            "Index(['Source IP', ' Source Port', ' Destination IP', ' Destination Port',\n",
            "       ' Protocol', 'Flow_Duration', ' Flow Bytes/s', ' Flow Packets/s',\n",
            "       ' Flow IAT Mean', ' Flow IAT Std', ' Flow IAT Max', ' Flow IAT Min',\n",
            "       'Fwd IAT Mean', ' Fwd IAT Std', ' Fwd IAT Max', ' Fwd IAT Min',\n",
            "       'Bwd IAT Mean', ' Bwd IAT Std', ' Bwd IAT Max', ' Bwd IAT Min',\n",
            "       'Active Mean', ' Active Std', ' Active Max', ' Active Min', 'Idle Mean',\n",
            "       ' Idle Std', ' Idle Max', ' Idle Min', 'label'],\n",
            "      dtype='object')\n"
          ]
        }
      ]
    },
    {
      "cell_type": "markdown",
      "source": [],
      "metadata": {
        "id": "pt9k3lkaQ-AR"
      }
    },
    {
      "cell_type": "code",
      "source": [
        "plt.plot(df.Flow_Duration,'m4')\n",
        "plt.axis([0,2000, 0,10000000])\n",
        "plt.xlabel('n intento')\n",
        "plt.ylabel('tiempo')\n",
        "plt.show()"
      ],
      "metadata": {
        "colab": {
          "base_uri": "https://localhost:8080/",
          "height": 290
        },
        "id": "EJL0aCjNKbmq",
        "outputId": "6328e5a8-3ec9-4f88-faec-4c12586fa969"
      },
      "execution_count": null,
      "outputs": [
        {
          "output_type": "display_data",
          "data": {
            "text/plain": [
              "<Figure size 432x288 with 1 Axes>"
            ],
            "image/png": "[encoded data removed]"
          },
          "metadata": {
            "needs_background": "light"
          }
        }
      ]
    },
    {
      "cell_type": "code",
      "source": [
        "import plotly.express as px\n",
        "fig = px.box(df, y='Flow_Duration')\n",
        "fig.show()"
      ],
      "metadata": {
        "colab": {
          "base_uri": "https://localhost:8080/",
          "height": 542
        },
        "id": "bLo5vuzXQh9q",
        "outputId": "db8f2fc0-117a-46aa-9855-53f8e9f05674"
      },
      "execution_count": null,
      "outputs": [
        {
          "output_type": "display_data",
          "data": {
            "text/html": [
              "<html>\n",
              "<head><meta charset=\"utf-8\" /></head>\n",
              "<body>\n",
              "    <div>            <script src=\"https://cdnjs.cloudflare.com/ajax/libs/mathjax/2.7.5/MathJax.js?config=TeX-AMS-MML_SVG\"></script><script type=\"text/javascript\">if (window.MathJax) {MathJax.Hub.Config({SVG: {font: \"STIX-Web\"}});}</script>                <script type=\"text/javascript\">window.PlotlyConfig = {MathJaxConfig: 'local'};</script>\n",
              "        <script src=\"https://cdn.plot.ly/plotly-2.8.3.min.js\"></script>                <div id=\"30d52ebb-36c7-4fdb-a3e2-b7f55275c236\" class=\"plotly-graph-div\" style=\"height:525px; width:100%;\"></div>            <script type=\"text/javascript\">                                    window.PLOTLYENV=window.PLOTLYENV || {};                                    if (document.getElementById(\"30d52ebb-36c7-4fdb-a3e2-b7f55275c236\")) {                    Plotly.newPlot(                        \"30d52ebb-36c7-4fdb-a3e2-b7f55275c236\",                        [{\"alignmentgroup\":\"True\",\"hovertemplate\":\"Flow_Duration=%{y}<extra></extra>\",\"legendgroup\":\"\",\"marker\":{\"color\":\"#636efa\"},\"name\":\"\",\"notched\":false,\"offsetgroup\":\"\",\"orientation\":\"v\",\"showlegend\":false,\"x0\":\" \",\"xaxis\":\"x\",\"y\":[7248168,5157723,41,9543565,9987537,8187417,45,9985157,6371440,858001,9990797,9717897,713119,7529843,9889624,2405539,2292995,228,3634162,9925189,9983685,6095263,5307435,40,9844633,44,9981033,4183311,9888134,9986820,7127701,39,4884431,1756616,8888854,38210,69,42,1003,2263816,37007,123,47,209693,4601650,9977870,3107185,1119088,1800,618499,6159962,6108106,6153793,6175827,6113776,3500790,9991357,464710,9998064,240037,9992798,804138,485,2061257,9882138,1770808,5678540,2039217,163,1870703,9926191,8999215,230,6294849,9955751,9999942,7033267,8805265,3111390,9788830,1325071,403,5343303,478,3247726,9962518,2728915,6274488,1923164,560,1768843,514,9898196,176,739728,149270,2486508,724340,716477,9707609,1830632,221,2302592,9928053,1624372,3465904,287,1930228,6999446,2120785,372,2189356,9958287,2064308,583,8259574,9993461,452,6742442,9907596,5412363,491,1947847,9752456,1001688,9937053,753414,9979143,367643,9947272,1452456,9983576,426362,9972236,767832,319979,10000000,714517,9970283,6828956,9987438,8266085,9752497,1699685,9848878,1324529,191,1945280,3288354,9893651,9904590,9998499,7986504,9988769,9207210,7948795,216974,5599123,5513465,6298113,5716544,7226177,4269093,9645641,4482408,8623130,6729987,9977397,134,8965870,6361814,8345614,9523456,8346972,8996795,9466466,9877918,980150,9996610,6272512,602663,9897050,8646501,9929802,820193,9878817,2774468,9981264,4073976,9919431,1964759,9940310,9154140,9774241,7935071,6255979,1384186,296,9422396,119,4350714,141,6768115,247,3763744,7950143,9976994,1052279,660,4017475,178,3249478,588545,3361618,9838811,9885735,2582871,1957816,3487113,3201989,9559507,4620376,7666811,576,8447599,7264483,9989629,1041676,9983298,6107164,2582078,9998964,336900,9983854,9184143,9923436,9714466,9974851,1234979,459,9380999,7746190,9907851,3914015,7444553,257923,7590052,8510892,7245129,9095107,7350887,7957581,7252931,7547709,8344067,8479560,6660603,561784,5233205,7417891,7937165,8746244,9998580,3181352,8073949,8540434,9859258,6600962,7455946,7685131,6742647,744379,7447231,7644876,8565881,6395329,634519,7651406,4693395,7045572,640665,6199876,6284488,8379565,8879256,6781134,7342583,6105977,9974056,6265856,7585298,7874491,7439370,6750896,9139069,9595412,6791322,6678242,6876556,9477973,6692796,7051021,9990093,5881154,7525681,7194931,9996241,5558935,6803007,9890721,565599,9373970,8762460,454210,8835925,536256,8590944,7711914,8787457,456913,9805891,7095726,848394,7898534,6331200,6637429,9742785,9705818,8995181,6457338,6619252,6773753,138,7108295,8555135,6580462,572138,7075124,7470466,531801,7039614,9351482,9985462,5313028,7004916,6103301,634065,6487742,7286184,6819113,8596463,6302861,636805,7069296,7166768,6966805,9331885,9698793,8010191,8117982,549,8512272,6505512,1965353,7769208,6741119,6820436,6430590,154,6474535,8124387,9609436,9700632,58,6670624,9912565,5839441,6398317,7078444,8460270,7184219,453485,7211837,463708,6760061,7232516,8101524,9799605,7434858,7199383,9507225,6233847,7699970,96,7399054,7936691,7786859,7849322,8443878,8515372,6503151,463291,6187918,463096,9940511,9819563,9865991,3258156,9454192,7520597,5417429,7823338,8632665,9749495,9830000,9355068,9987783,2983015,9768694,9998602,1052976,9635093,9167259,2099552,9367810,8709860,7167775,507,9691009,3018209,9991017,2481358,8357669,5377560,2336676,9978233,2252067,9973966,6399522,9912412,2266765,3331254,1242275,8288519,9450479,8700526,2927896,9725490,2100692,9633718,2183382,9965790,1326173,9987257,1387967,869613,9990540,725784,295,9999556,51,1467731,9349937,1505856,9997602,1097034,9999400,1219272,9385567,9908784,9453715,4664971,268,412241,934932,2612775,233,930180,339191,881909,3133135,895136,3089685,156,158,9992951,867520,1484699,3095412,9978926,1326735,9982056,7423886,9652693,1660020,9626821,1423179,9792031,8432844,2282718,9899938,267,716,750480,9806332,1374691,9919944,449537,9996911,705298,9988822,7949970,9967735,71213,9998613,650025,9987507,7271515,9986347,1430822,9648190,8516904,2384820,8799238,7793056,7704665,7418406,6707258,1882481,7278356,7106525,3762109,6106226,8509711,8808182,6843409,8897973,9988044,822215,462,2765037,635201,2570075,374,2518646,999,4460747,9813739,2605166,9788060,2158648,9946830,3170091,9895613,1341346,9852195,2848517,9583459,9148721,510,3663291,9787545,2233874,134,2559867,538,8092159,959,2213310,189,2626465,8533941,2750076,292,2983629,464,8561003,5788309,9990519,709639,9730625,1339403,9934393,1391065,9829028,7329961,297975,6678426,8476874,7575619,544349,9467791,9954990,6168704,7652758,6440424,8021280,6179136,575228,7350759,6745399,8702036,8700121,6315803,719333,8576996,6596388,506781,7304237,6380374,489623,6304074,6315933,9902561,5003161,9007471,8008998,7996705,7993468,9990385,8988670,8986595,9999975,7460519,8000037,8902240,8998693,8358972,9999345,9972860,9999537,5354801,4808147,97,9844189,6268208,100,4941125,110,9929638,5886876,9139473,9979932,57,9843172,2346447,9905929,9835547,9756035,7246101,7039054,8751340,8255301,7269998,9504537,2475113,9972708,1429128,9965777,1299223,9987619,1384164,9942865,8128631,9999676,439161,9992516,365344,9999338,6009682,9982054,1358914,483,644678,9991247,5951446,8502925,9706033,9987718,2679570,8543872,9998846,9973083,528079,9978563,100238,9823480,2138864,9498245,9950893,6317252,9757209,5007284,8756055,7775837,6386297,6551049,9172021,7250246,7903942,9984988,4666336,6292460,136,5039108,9908223,958302,9995076,1936793,9983270,1045350,9959767,1329645,9999459,782058,433,151,9956879,9936319,9055858,9855891,9998235,9987675,9995739,9912988,9952615,9926836,9890446,9015605,9969118,3070921,4374195,1634577,4743072,40,38,1053661,55,7121365,7260635,9745376,6108284,8606395,58,6493080,9319173,9998479,7089657,9993836,9815835,9999984,9995690,9977609,9975367,9385537,9421392,9000046,8356723,9990388,9800316,9983108,9988682,9897370,9995251,9736859,7808323,6390930,9612632,9605517,9963051,9745872,9889938,9567413,7505690,60,9755662,288,384123,9785870,3838412,7200406,7583269,9673758,2323439,9708000,376167,9977515,9970168,8923306,9991132,9553957,8173630,5235863,353450,352303,1335569,352603,52,6330801,118557,8460176,9551853,114930,154762,352070,353984,6076492,293,365934,55,9944203,1723990,9987111,2501528,2462860,9345332,6062393,7987669,342896,52,444557,159331,342738,343026,9827805,5467772,9741658,1928085,35,337229,9996653,9977995,9990322,9997574,9959978,9958850,9953896,9980635,9991124,9983668,9967578,9997997,9968620,9975226,9948793,9948337,9174963,7901382,9688495,9975954,9105986,9611868,9689259,7130218,8010765,5144827,9993821,9800222,6937738,9997091,9739974,9304552,9821679,9960857,6904860,9154455,8468875,8720710,6180637,9997166,7729480,9051097,2879192,4265213,9662622,4784549,8715094,5364979,9762959,9107116,4438171,6281846,9758356,9979258,4007938,7376792,3189075,9836920,9987009,7379341,9300034,7905757,8165087,1218211,2503844,2148657,9979494,9996284,9996229,9796955,9993404,9998993,9755164,8610266,9892115,9685296,9237950,8883566,9994988,6365704,9437682,8620125,7507569,9902040,9795145,9911576,9559474,9999116,9467681,9499238,9392272,9637817,9681310,9623715,9717377,9628930,9679217,9631009,9731266,9730960,9999903,9934727,9920970,9888708,9987040,9455667,9259420,8986947,9256637,2007399,5879370,7324970,362705,8905212,470237,9670802,3727908,2401907,190737,8950407,8998173,9890599,3493167,8989451,9889269,9993069,9966847,9422584,9763768,7955050,7983226,8471580,9857371,3300839,43,9988414,9948179,39,9395809,9054900,1713447,8796095,6933743,38,3954610,5564193,9038796,2279,957119,8838546,9999936,9889127,9907024,9999390,9998415,9811707,9806760,9999584,9806394,8807416,9554865,6719295,9977381,9982913,9950275,9984449,8738921,8440863,9831378,5893629,9505191,8249265,9547409,9752180,9195805,7501791,6789265,9911932,5151126,3408627,5011688,7186958,1689,5488770,9338183,7633096,1104486,9913321,9481904,9371604,9231789,6050762,1791472,5747526,43,5016937,562569,2138826,191831,9278937,7451806,236994,1844226,10309,6994,9845954,6271338,9808198,4031354,6829531,9979577,6795818,1413330,353319,9886702,9956530,9983424,8748188,600897,8722258,1999878,6494261,3486939,484568,8781993,9485266,9958739,7304839,476042,479393,9921289,9376691,9950766,9793761,9922799,9393269,48,3793214,432,176,8808561,7748165,1055346,9983119,3740271,6503806,9905752,3421883,1989840,9794323,4701342,9876948,9422173,9642528,9999883,9402040,7607574,9893077,4533421,9749469,9184801,9824621,9340416,8435498,8918191,9591526,4564426,9931602,9626217,3180297,9591161,6979692,7808353,1430319,9929934,5302337,1323125,468133,1331815,9969651,8489642,9997339,9999647,9909484,9735917,5010067,9992294,9965477,9966192,9863084,9784492,9434552,9527161,9828952,9990948,7497524,9872012,9976030,9345515,9984803,9955628,9367715,5594923,8836009,9424943,9424743,6539427,4405483,6474642,8133957,2073291,568284,9981809,1965209,5503887,45,367809,9978781,2595937,9903972,5133163,9739533,9996868,9990394,8760589,9450125,9996692,9987883,9999976,9920479,9786154,9979397,9992650,9983488,9940628,9815742,9980778,9826364,9947313,9126218,9921766,9879237,9400905,7687716,9963122,9998612,9043746,6444432,9040187,5002789,9289250,8006054,8223152,49,380385,215412,7857717,351792,9578797,9572072,9011948,9002144,9437591,9999837,8979199,8972149,8455535,9726741,9995842,9000257,9989853,9994607,9997854,9906478,9999850,7000404,6797471,62,9488006,9487536,39,9010743,9831685,40,38,7060384,3955421,9098023,9902242,9568015,40,9583603,2489889,9478625,8759043,9929469,9112419,9460467,8105749,4632806,8507803,198053,9878006,8973302,8570999,91,2450336,9796312,9947068,1400317,468988,758032,9966039,9936036,9957620,4422382,499734,6366469,1881963,9918448,9964090,8538567,9991033,9755879,9999722,9967479,319762,1390557,158174,9913633,9762717,9661633,1459759,9983704,9983502,9989678,9975136,9906165,9989369,9529178,9917115,9929937,2154358,9986128,9991619,9879994,9885551,9905566,7873154,9977700,9942500,9998729,9974694,9559683,4405889,9942161,9849233,9896974,9986312,9789850,4963604,6783458,9786223,9994130,9947150,9999574,9938912,9863741,113177,524606,1097153,9962797,9624734,9994733,9929345,121,9998939,9996763,9648640,9985151,9986782,9815405,9987370,9991261,9940185,9995183,9838089,9944143,8415086,9647449,9571042,9649328,8190147,8954222,9007334,9603546,9711730,9520793,5699030,6746915,9927709,9066333,9703805,9637446,9975020,9907249,9965175,992952,1122524,9866180,9878648,4414860,9982117,9545235,9414842,7553790,9364423,8417260,9999901,9822536,9944464,496514,8095034,8438769,9530812,6637784,9742794,9920471,6811713,9972006,9470339,9985266,523555,1116060,9646820,9930210,9989197,1104985,515245,1093227,9986609,5920197,9271486,7632199,9143791,8579379,9984693,6983934,2912406,9550645,9398756,8012274,9849137,6991366,9565163,158,190,9741052,1868963,9983824,9993184,8766251,9854502,9978340,9993307,9985318,8257871,9579600,246716,8532204,9747727,9824707,8570311,9979802,9007405,8512549,9238835,9956394,9985588,9671085,5566840,8908940,9222552,5024860,9343775,9181138,9974565,9963419,8574319,6441083,9707920,3620787,9828177,9513999,8643512,9983283,4169018,8871579,9624232,9954528,1059076,9900359,8849879,9395792,9908769,9798753,9596857,9944761,9862304,9601833,206574,8363338,6153189,9925174,9999444,9996568,9985887,9783025,9391782,6988958,9508294,7821059,9897836,8565736,9974616,6681785,7708406,5620107,575026,2064232,5899332,9285165,9941903,9413144,9852652,3520779,8567832,5649696,9999219,9689490,9763330,9966137,9292729,9873499,836069,1990202,9968266,9998595,7295000,9906729,3828045,9972206,9494284,9953673,691724,790515,9983085,9879905,9855937,9891924,9679317,9908840,7310547,9996683,9978846,9442613,9929283,9974233,9884451,9376265,9784577,9793583,7399940,9491792,7445638,9994862,6755607,9986052,1959179,9861018,9970934,5004326,9879592,9982460,7247742,1549564,1545429,4377356,775288,5316814,746364,9970563,9991060,9942704,9809213,9334489,9240908,9758989,5529979,7730785,5082859,3073518,8429749,663641,3192902,7571530,9708877,8974327,7579505,4435747,9993871,8144152,1301512,791966,7672927,49,9689695,6058813,9027534,9972149,9135593,9885610,9956780,9960941,9034511,9612119,7728066,9391261,7008990,2511627,9999904,5076883,9996111,9865562,204,166,2248851,9992273,9823637,7423226,7434087,9928942,9748257,9935049,8137709,7983073,9847458,7167010,9012147,9549897,126900,2555212,135,137,3386364,9873650,6993067,9916972,9982547,9201527,2424079,9980044,9898546,5503318,7576644,4964424,7558908,9536230,9957424,9947425,9913040,9412335,9003916,578197,8620995,9866235,9990018,9020742,9881441,4088151,9545185,9836586,9766043,9998555,9995969,9996821,9985996,9888562,8795693,9920018,9994114,9977148,9964080,9921104,9051041,9942358,9508921,9899255,8072556,8475997,9768206,9988156,9388609,9976156,7962988,8724684,9971022,9706564,9974208,9981082,9302022,9763684,9560995,7480559,9911185,9904426,9545609,8962825,9966235,9991147,9971721,8713061,310107,9708076,8100055,8204272,8934895,9773661,9993280,9999344,9774214,9884148,9995970,9962705,9937848,9983197,9962972,6309140,9985856,9123056,9972503,9999203,9962319,9904018,8337498,9741754,9566586,9726776,9846321,8270248,9903762,9865280,9899283,9960080,9636770,4480625,9514173,9401920,8389987,225561,283,152,7269309,9898339,9593452,9955944,9717229,9985109,9038640,8160577,8750535,8249501,8009240,1697049,9563236,5763838,9489356,9526174,9989299,3003240,525473,402360,187037,7439437,6414960,9965322,9973260,9884144,9870429,9934601,9984634,9975760,9939605,9996449,9994746,9981061,9703875,9707199,9345531,6596368,9774913,9515118,9888302,9377171,8329407,7003951,9996724,9997015,9955841,9833823,9806289,3807657,9936774,9994826,9849030,9925602,7536718,9872065,9182040,9688167,8005914,3000445,540022,9997140,368475,9540791,8136190,5625782,3182959,7710896,1877981,9006341,6613552,9927932,9995737,9996759,9907690,9923721,8888296,7632845,9993315,9993237,9912783,9884751,7698802,9380636,9191365,4161599,9669915,7874519,9919986,9929429,9947381,9998838,9999617,9945753,9933894,9999270,9983934,9965981,9992826,9968523,9989135,9922493,9279681,9787307,9481923,9482090,7481380,9843371,8719502,6461250,9863603,7386538,8076803,8762801,9984338,9845477,9358531,9972800,5509678,9338759,9801452,8643739,8004552,9834316,9127966,9998444,9998035,9823051,8037391,6118811,9980949,7775421,9932885,9300678,2140291,7009773,5916113,263779,2327510,9258337,9996707,9969067,9820809,6712626,2485289,8444237,9538738,4500648,3278104,57,7727937,9437377,9999463,9929374,9291028,6455486,9706145,9204572,9875809,9957688,9995285,7055911,9935111,9928880,9989430,9983885,9749237,9354523,9993853,9949573,9968254,9999394,9996113,9747608,9827766,4367735,9846325,9998734,9909725,8791678,9912124,9232554,9978634,9984911,9417534,4989400,9869507,1372343,191,7875063,9585884,8492505,3208802,7000331,9530023,9642194,8205704,5374871,3277246,9900520,8562615,183240,606707,9644224,482,1777411,237062,9719890,5578708,240337,265118,360054,243597,429595,406941,725748,323899,9832469,9656669,9795502,4478611,9996240,9720025,9940770,9308834,9929571,6734993,3416962,4241558,9972669,7525435,9998939,4950451,7335058,1463218,8772984,9924985,1107532,6997771,9971771,176807,9163174,5050701,9999288,9954858,1502,9978263,8792546,9958871,391763,9487130,295345,88,8359334,9899754,9992806,9994102,9894710,9982506,8989956,9998759,9999400,9991326,9909892,9986620,8802494,9901468,9699496,9863716,8997949,8567969,9424202,8008102,9712636,9001159,9485100,5503847,4780283,9343212,6830457,9152247,9972030,2566919,720576,8768044,127767,296714,9675272,6472320,8988208,8000911,9001832,362733,8059312,8010516,1085069,9970077,9201118,9983067,6718371,8569109,9578430,609677,9995824,8993453,9002128,9996700,9777081,424041,3998327,7638255,9676492,6796043,5180884,71,9848112,1576237,9993365,9965684,39,71,8844387],\"y0\":\" \",\"yaxis\":\"y\",\"type\":\"box\"}],                        {\"template\":{\"data\":{\"bar\":[{\"error_x\":{\"color\":\"#2a3f5f\"},\"error_y\":{\"color\":\"#2a3f5f\"},\"marker\":{\"line\":{\"color\":\"#E5ECF6\",\"width\":0.5},\"pattern\":{\"fillmode\":\"overlay\",\"size\":10,\"solidity\":0.2}},\"type\":\"bar\"}],\"barpolar\":[{\"marker\":{\"line\":{\"color\":\"#E5ECF6\",\"width\":0.5},\"pattern\":{\"fillmode\":\"overlay\",\"size\":10,\"solidity\":0.2}},\"type\":\"barpolar\"}],\"carpet\":[{\"aaxis\":{\"endlinecolor\":\"#2a3f5f\",\"gridcolor\":\"white\",\"linecolor\":\"white\",\"minorgridcolor\":\"white\",\"startlinecolor\":\"#2a3f5f\"},\"baxis\":{\"endlinecolor\":\"#2a3f5f\",\"gridcolor\":\"white\",\"linecolor\":\"white\",\"minorgridcolor\":\"white\",\"startlinecolor\":\"#2a3f5f\"},\"type\":\"carpet\"}],\"choropleth\":[{\"colorbar\":{\"outlinewidth\":0,\"ticks\":\"\"},\"type\":\"choropleth\"}],\"contour\":[{\"colorbar\":{\"outlinewidth\":0,\"ticks\":\"\"},\"colorscale\":[[0.0,\"#0d0887\"],[0.1111111111111111,\"#46039f\"],[0.2222222222222222,\"#7201a8\"],[0.3333333333333333,\"#9c179e\"],[0.4444444444444444,\"#bd3786\"],[0.5555555555555556,\"#d8576b\"],[0.6666666666666666,\"#ed7953\"],[0.7777777777777778,\"#fb9f3a\"],[0.8888888888888888,\"#fdca26\"],[1.0,\"#f0f921\"]],\"type\":\"contour\"}],\"contourcarpet\":[{\"colorbar\":{\"outlinewidth\":0,\"ticks\":\"\"},\"type\":\"contourcarpet\"}],\"heatmap\":[{\"colorbar\":{\"outlinewidth\":0,\"ticks\":\"\"},\"colorscale\":[[0.0,\"#0d0887\"],[0.1111111111111111,\"#46039f\"],[0.2222222222222222,\"#7201a8\"],[0.3333333333333333,\"#9c179e\"],[0.4444444444444444,\"#bd3786\"],[0.5555555555555556,\"#d8576b\"],[0.6666666666666666,\"#ed7953\"],[0.7777777777777778,\"#fb9f3a\"],[0.8888888888888888,\"#fdca26\"],[1.0,\"#f0f921\"]],\"type\":\"heatmap\"}],\"heatmapgl\":[{\"colorbar\":{\"outlinewidth\":0,\"ticks\":\"\"},\"colorscale\":[[0.0,\"#0d0887\"],[0.1111111111111111,\"#46039f\"],[0.2222222222222222,\"#7201a8\"],[0.3333333333333333,\"#9c179e\"],[0.4444444444444444,\"#bd3786\"],[0.5555555555555556,\"#d8576b\"],[0.6666666666666666,\"#ed7953\"],[0.7777777777777778,\"#fb9f3a\"],[0.8888888888888888,\"#fdca26\"],[1.0,\"#f0f921\"]],\"type\":\"heatmapgl\"}],\"histogram\":[{\"marker\":{\"pattern\":{\"fillmode\":\"overlay\",\"size\":10,\"solidity\":0.2}},\"type\":\"histogram\"}],\"histogram2d\":[{\"colorbar\":{\"outlinewidth\":0,\"ticks\":\"\"},\"colorscale\":[[0.0,\"#0d0887\"],[0.1111111111111111,\"#46039f\"],[0.2222222222222222,\"#7201a8\"],[0.3333333333333333,\"#9c179e\"],[0.4444444444444444,\"#bd3786\"],[0.5555555555555556,\"#d8576b\"],[0.6666666666666666,\"#ed7953\"],[0.7777777777777778,\"#fb9f3a\"],[0.8888888888888888,\"#fdca26\"],[1.0,\"#f0f921\"]],\"type\":\"histogram2d\"}],\"histogram2dcontour\":[{\"colorbar\":{\"outlinewidth\":0,\"ticks\":\"\"},\"colorscale\":[[0.0,\"#0d0887\"],[0.1111111111111111,\"#46039f\"],[0.2222222222222222,\"#7201a8\"],[0.3333333333333333,\"#9c179e\"],[0.4444444444444444,\"#bd3786\"],[0.5555555555555556,\"#d8576b\"],[0.6666666666666666,\"#ed7953\"],[0.7777777777777778,\"#fb9f3a\"],[0.8888888888888888,\"#fdca26\"],[1.0,\"#f0f921\"]],\"type\":\"histogram2dcontour\"}],\"mesh3d\":[{\"colorbar\":{\"outlinewidth\":0,\"ticks\":\"\"},\"type\":\"mesh3d\"}],\"parcoords\":[{\"line\":{\"colorbar\":{\"outlinewidth\":0,\"ticks\":\"\"}},\"type\":\"parcoords\"}],\"pie\":[{\"automargin\":true,\"type\":\"pie\"}],\"scatter\":[{\"marker\":{\"colorbar\":{\"outlinewidth\":0,\"ticks\":\"\"}},\"type\":\"scatter\"}],\"scatter3d\":[{\"line\":{\"colorbar\":{\"outlinewidth\":0,\"ticks\":\"\"}},\"marker\":{\"colorbar\":{\"outlinewidth\":0,\"ticks\":\"\"}},\"type\":\"scatter3d\"}],\"scattercarpet\":[{\"marker\":{\"colorbar\":{\"outlinewidth\":0,\"ticks\":\"\"}},\"type\":\"scattercarpet\"}],\"scattergeo\":[{\"marker\":{\"colorbar\":{\"outlinewidth\":0,\"ticks\":\"\"}},\"type\":\"scattergeo\"}],\"scattergl\":[{\"marker\":{\"colorbar\":{\"outlinewidth\":0,\"ticks\":\"\"}},\"type\":\"scattergl\"}],\"scattermapbox\":[{\"marker\":{\"colorbar\":{\"outlinewidth\":0,\"ticks\":\"\"}},\"type\":\"scattermapbox\"}],\"scatterpolar\":[{\"marker\":{\"colorbar\":{\"outlinewidth\":0,\"ticks\":\"\"}},\"type\":\"scatterpolar\"}],\"scatterpolargl\":[{\"marker\":{\"colorbar\":{\"outlinewidth\":0,\"ticks\":\"\"}},\"type\":\"scatterpolargl\"}],\"scatterternary\":[{\"marker\":{\"colorbar\":{\"outlinewidth\":0,\"ticks\":\"\"}},\"type\":\"scatterternary\"}],\"surface\":[{\"colorbar\":{\"outlinewidth\":0,\"ticks\":\"\"},\"colorscale\":[[0.0,\"#0d0887\"],[0.1111111111111111,\"#46039f\"],[0.2222222222222222,\"#7201a8\"],[0.3333333333333333,\"#9c179e\"],[0.4444444444444444,\"#bd3786\"],[0.5555555555555556,\"#d8576b\"],[0.6666666666666666,\"#ed7953\"],[0.7777777777777778,\"#fb9f3a\"],[0.8888888888888888,\"#fdca26\"],[1.0,\"#f0f921\"]],\"type\":\"surface\"}],\"table\":[{\"cells\":{\"fill\":{\"color\":\"#EBF0F8\"},\"line\":{\"color\":\"white\"}},\"header\":{\"fill\":{\"color\":\"#C8D4E3\"},\"line\":{\"color\":\"white\"}},\"type\":\"table\"}]},\"layout\":{\"annotationdefaults\":{\"arrowcolor\":\"#2a3f5f\",\"arrowhead\":0,\"arrowwidth\":1},\"autotypenumbers\":\"strict\",\"coloraxis\":{\"colorbar\":{\"outlinewidth\":0,\"ticks\":\"\"}},\"colorscale\":{\"diverging\":[[0,\"#8e0152\"],[0.1,\"#c51b7d\"],[0.2,\"#de77ae\"],[0.3,\"#f1b6da\"],[0.4,\"#fde0ef\"],[0.5,\"#f7f7f7\"],[0.6,\"#e6f5d0\"],[0.7,\"#b8e186\"],[0.8,\"#7fbc41\"],[0.9,\"#4d9221\"],[1,\"#276419\"]],\"sequential\":[[0.0,\"#0d0887\"],[0.1111111111111111,\"#46039f\"],[0.2222222222222222,\"#7201a8\"],[0.3333333333333333,\"#9c179e\"],[0.4444444444444444,\"#bd3786\"],[0.5555555555555556,\"#d8576b\"],[0.6666666666666666,\"#ed7953\"],[0.7777777777777778,\"#fb9f3a\"],[0.8888888888888888,\"#fdca26\"],[1.0,\"#f0f921\"]],\"sequentialminus\":[[0.0,\"#0d0887\"],[0.1111111111111111,\"#46039f\"],[0.2222222222222222,\"#7201a8\"],[0.3333333333333333,\"#9c179e\"],[0.4444444444444444,\"#bd3786\"],[0.5555555555555556,\"#d8576b\"],[0.6666666666666666,\"#ed7953\"],[0.7777777777777778,\"#fb9f3a\"],[0.8888888888888888,\"#fdca26\"],[1.0,\"#f0f921\"]]},\"colorway\":[\"#636efa\",\"#EF553B\",\"#00cc96\",\"#ab63fa\",\"#FFA15A\",\"#19d3f3\",\"#FF6692\",\"#B6E880\",\"#FF97FF\",\"#FECB52\"],\"font\":{\"color\":\"#2a3f5f\"},\"geo\":{\"bgcolor\":\"white\",\"lakecolor\":\"white\",\"landcolor\":\"#E5ECF6\",\"showlakes\":true,\"showland\":true,\"subunitcolor\":\"white\"},\"hoverlabel\":{\"align\":\"left\"},\"hovermode\":\"closest\",\"mapbox\":{\"style\":\"light\"},\"paper_bgcolor\":\"white\",\"plot_bgcolor\":\"#E5ECF6\",\"polar\":{\"angularaxis\":{\"gridcolor\":\"white\",\"linecolor\":\"white\",\"ticks\":\"\"},\"bgcolor\":\"#E5ECF6\",\"radialaxis\":{\"gridcolor\":\"white\",\"linecolor\":\"white\",\"ticks\":\"\"}},\"scene\":{\"xaxis\":{\"backgroundcolor\":\"#E5ECF6\",\"gridcolor\":\"white\",\"gridwidth\":2,\"linecolor\":\"white\",\"showbackground\":true,\"ticks\":\"\",\"zerolinecolor\":\"white\"},\"yaxis\":{\"backgroundcolor\":\"#E5ECF6\",\"gridcolor\":\"white\",\"gridwidth\":2,\"linecolor\":\"white\",\"showbackground\":true,\"ticks\":\"\",\"zerolinecolor\":\"white\"},\"zaxis\":{\"backgroundcolor\":\"#E5ECF6\",\"gridcolor\":\"white\",\"gridwidth\":2,\"linecolor\":\"white\",\"showbackground\":true,\"ticks\":\"\",\"zerolinecolor\":\"white\"}},\"shapedefaults\":{\"line\":{\"color\":\"#2a3f5f\"}},\"ternary\":{\"aaxis\":{\"gridcolor\":\"white\",\"linecolor\":\"white\",\"ticks\":\"\"},\"baxis\":{\"gridcolor\":\"white\",\"linecolor\":\"white\",\"ticks\":\"\"},\"bgcolor\":\"#E5ECF6\",\"caxis\":{\"gridcolor\":\"white\",\"linecolor\":\"white\",\"ticks\":\"\"}},\"title\":{\"x\":0.05},\"xaxis\":{\"automargin\":true,\"gridcolor\":\"white\",\"linecolor\":\"white\",\"ticks\":\"\",\"title\":{\"standoff\":15},\"zerolinecolor\":\"white\",\"zerolinewidth\":2},\"yaxis\":{\"automargin\":true,\"gridcolor\":\"white\",\"linecolor\":\"white\",\"ticks\":\"\",\"title\":{\"standoff\":15},\"zerolinecolor\":\"white\",\"zerolinewidth\":2}}},\"xaxis\":{\"anchor\":\"y\",\"domain\":[0.0,1.0]},\"yaxis\":{\"anchor\":\"x\",\"domain\":[0.0,1.0],\"title\":{\"text\":\"Flow_Duration\"}},\"legend\":{\"tracegroupgap\":0},\"margin\":{\"t\":60},\"boxmode\":\"group\"},                        {\"responsive\": true}                    ).then(function(){\n",
              "                            \n",
              "var gd = document.getElementById('30d52ebb-36c7-4fdb-a3e2-b7f55275c236');\n",
              "var x = new MutationObserver(function (mutations, observer) {{\n",
              "        var display = window.getComputedStyle(gd).display;\n",
              "        if (!display || display === 'none') {{\n",
              "            console.log([gd, 'removed!']);\n",
              "            Plotly.purge(gd);\n",
              "            observer.disconnect();\n",
              "        }}\n",
              "}});\n",
              "\n",
              "// Listen for the removal of the full notebook cells\n",
              "var notebookContainer = gd.closest('#notebook-container');\n",
              "if (notebookContainer) {{\n",
              "    x.observe(notebookContainer, {childList: true});\n",
              "}}\n",
              "\n",
              "// Listen for the clearing of the current output cell\n",
              "var outputEl = gd.closest('.output');\n",
              "if (outputEl) {{\n",
              "    x.observe(outputEl, {childList: true});\n",
              "}}\n",
              "\n",
              "                        })                };                            </script>        </div>\n",
              "</body>\n",
              "</html>"
            ]
          },
          "metadata": {}
        }
      ]
    }
  ]
}