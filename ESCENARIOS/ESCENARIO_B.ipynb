{
  "nbformat": 4,
  "nbformat_minor": 0,
  "metadata": {
    "colab": {
      "provenance": []
    },
    "kernelspec": {
      "name": "python3",
      "display_name": "Python 3"
    },
    "language_info": {
      "name": "python"
    }
  },
  "cells": [
    {
      "cell_type": "markdown",
      "source": [
        "# Escenarios experimentales Internetworking CNN ESCENARIO B\n",
        "Presentado por: Jonathan Toapanta\n",
        "Fecha: 23/02/2023\n"
      ],
      "metadata": {
        "id": "ZG0VXm9biyQD"
      }
    },
    {
      "cell_type": "code",
      "source": [
        "!pip install tensorflow-addons\n",
        "\n",
        "import pandas as pd\n",
        "import numpy as np\n",
        "from sklearn.model_selection import train_test_split\n",
        "from tensorflow import keras\n",
        "from tensorflow.keras.utils import to_categorical\n",
        "from tensorflow.keras.callbacks import EarlyStopping"
      ],
      "metadata": {
        "id": "0Hm8LfZ21Afo",
        "colab": {
          "base_uri": "https://localhost:8080/"
        },
        "outputId": "57ce1bbf-0b14-44f9-dbed-fe81a8851643"
      },
      "execution_count": null,
      "outputs": [
        {
          "output_type": "stream",
          "name": "stdout",
          "text": [
            "Looking in indexes: https://pypi.org/simple, https://us-python.pkg.dev/colab-wheels/public/simple/\n",
            "Collecting tensorflow-addons\n",
            "  Downloading tensorflow_addons-0.19.0-cp38-cp38-manylinux_2_17_x86_64.manylinux2014_x86_64.whl (1.1 MB)\n",
            "\u001b[2K     \u001b[90m━━━━━━━━━━━━━━━━━━━━━━━━━━━━━━━━━━━━━━━━\u001b[0m \u001b[32m1.1/1.1 MB\u001b[0m \u001b[31m14.4 MB/s\u001b[0m eta \u001b[36m0:00:00\u001b[0m\n",
            "\u001b[?25hRequirement already satisfied: packaging in /usr/local/lib/python3.8/dist-packages (from tensorflow-addons) (23.0)\n",
            "Requirement already satisfied: typeguard>=2.7 in /usr/local/lib/python3.8/dist-packages (from tensorflow-addons) (2.7.1)\n",
            "Installing collected packages: tensorflow-addons\n",
            "Successfully installed tensorflow-addons-0.19.0\n"
          ]
        }
      ]
    },
    {
      "cell_type": "code",
      "source": [
        "# Load the data\n",
        "url = 'https://raw.githubusercontent.com/jonathan-elian-toapanta/INTERNETWORKING/main/ESCENARIOS/ScenarioB.csv'\n",
        "df = pd.read_csv(url)\n",
        "df= pd.read_csv(url,low_memory=False)\n",
        "dataframe= pd.read_csv(url,low_memory=False)"
      ],
      "metadata": {
        "id": "BY35VWnDpcXH"
      },
      "execution_count": null,
      "outputs": []
    },
    {
      "cell_type": "code",
      "source": [
        "# Normalise the data\n",
        "def dfNormalize(df):\n",
        "    for feature_name in df.columns:\n",
        "        df.loc[:,feature_name]= pd.to_numeric(df.loc[:,feature_name], errors='coerce').fillna(0)\n",
        "        max_value = df[feature_name].max()\n",
        "        min_value = df[feature_name].min()   \n",
        "        if (max_value - min_value) > 0:\n",
        "            df.loc[:,feature_name] = (df.loc[:,feature_name] - min_value) / (max_value - min_value)\n",
        "        else:\n",
        "            df.loc[:,feature_name] = (df.loc[:,feature_name]- min_value)    \n",
        "    return df\n"
      ],
      "metadata": {
        "id": "u6_2J9SVckTj"
      },
      "execution_count": null,
      "outputs": []
    },
    {
      "cell_type": "code",
      "source": [
        "# Split the data into train and test sets\n",
        "y = df['label']\n",
        "label_map = {'AUDIO': 0, 'BROWSING': 1, 'CHAT': 2, 'FILE-TRANSFER' : 3, 'MAIL' : 4, 'P2P' : 5, 'VIDEO' : 6, 'VOIP' : 7}\n",
        "change_labels = lambda x: label_map[x] if x in label_map else -1\n",
        "y = df['label'].apply(change_labels)\n"
      ],
      "metadata": {
        "id": "ZAqtSoFackqb"
      },
      "execution_count": null,
      "outputs": []
    },
    {
      "cell_type": "code",
      "source": [
        "X = df.iloc[:, 4:-1]\n",
        "X = dfNormalize(X)\n",
        "\n",
        "X_train, X_test, y_train, y_test = train_test_split(X, y, test_size=0.2, random_state=42, stratify=y)"
      ],
      "metadata": {
        "id": "PQzOzd1ycmVb"
      },
      "execution_count": null,
      "outputs": []
    },
    {
      "cell_type": "code",
      "source": [
        "# Reshape the data for Conv1D\n",
        "X_train = X_train.values.reshape((X_train.shape[0], X_train.shape[1], 1))\n",
        "X_test = X_test.values.reshape((X_test.shape[0], X_test.shape[1], 1))\n",
        "\n",
        "\n",
        "# One-hot encode the labels\n",
        "y_train = to_categorical(y_train)\n",
        "y_test = to_categorical(y_test)"
      ],
      "metadata": {
        "id": "CEAU5WxfcmcK"
      },
      "execution_count": null,
      "outputs": []
    },
    {
      "cell_type": "code",
      "source": [
        "# Define the model\n",
        "model = keras.models.Sequential([\n",
        "    keras.layers.Conv1D(filters=64, kernel_size=3, activation='relu', input_shape=(X_train.shape[1], 1)),\n",
        "    keras.layers.MaxPool1D(pool_size=2),\n",
        "    keras.layers.Conv1D(filters=128, kernel_size=3, activation='relu'),\n",
        "    keras.layers.MaxPool1D(pool_size=2),\n",
        "    keras.layers.Flatten(),\n",
        "    keras.layers.Dense(256, activation='relu'),\n",
        "    keras.layers.Dropout(0.5),\n",
        "    keras.layers.Dense(128, activation='relu'),\n",
        "    keras.layers.Dropout(0.5),\n",
        "    keras.layers.Dense(8, activation='softmax')\n",
        "])"
      ],
      "metadata": {
        "id": "KzmoqSjwcmgT"
      },
      "execution_count": null,
      "outputs": []
    },
    {
      "cell_type": "code",
      "source": [
        "from tensorflow.keras.metrics import Precision, Recall\n",
        "from tensorflow_addons.metrics import F1Score\n",
        "\n",
        "# Compile the model\n",
        "model.compile(optimizer='adam', loss='categorical_crossentropy', \n",
        "              metrics=['accuracy', Precision(), Recall(), F1Score(num_classes=8, average='macro')])\n"
      ],
      "metadata": {
        "id": "RV-_f2FBcmoC"
      },
      "execution_count": null,
      "outputs": []
    },
    {
      "cell_type": "code",
      "source": [
        "# Set up EarlyStopping callback\n",
        "early_stop = EarlyStopping(monitor='val_loss', patience=5)\n",
        "\n",
        "# Train the model\n",
        "history = model.fit(X_train, y_train, epochs=10, batch_size=32, validation_data=(X_test, y_test), callbacks=[early_stop])"
      ],
      "metadata": {
        "id": "vVEfuIJ-cz2b",
        "colab": {
          "base_uri": "https://localhost:8080/"
        },
        "outputId": "df7ec4ab-9423-47ca-f1c8-11248c78dce7"
      },
      "execution_count": null,
      "outputs": [
        {
          "output_type": "stream",
          "name": "stdout",
          "text": [
            "Epoch 1/10\n"
          ]
        },
        {
          "output_type": "stream",
          "name": "stderr",
          "text": [
            "WARNING:tensorflow:From /usr/local/lib/python3.8/dist-packages/tensorflow/python/autograph/pyct/static_analysis/liveness.py:83: Analyzer.lamba_check (from tensorflow.python.autograph.pyct.static_analysis.liveness) is deprecated and will be removed after 2023-09-23.\n",
            "Instructions for updating:\n",
            "Lambda fuctions will be no more assumed to be used in the statement where they are used, or at least in the same block. https://github.com/tensorflow/tensorflow/issues/56089\n"
          ]
        },
        {
          "output_type": "stream",
          "name": "stdout",
          "text": [
            "202/202 [==============================] - 9s 28ms/step - loss: 1.5977 - accuracy: 0.4113 - precision: 0.5546 - recall: 0.1428 - f1_score: 0.1804 - val_loss: 1.4154 - val_accuracy: 0.4580 - val_precision: 0.6077 - val_recall: 0.2753 - val_f1_score: 0.1787\n",
            "Epoch 2/10\n",
            "202/202 [==============================] - 6s 27ms/step - loss: 1.4084 - accuracy: 0.4628 - precision: 0.6357 - recall: 0.2272 - f1_score: 0.2231 - val_loss: 1.3114 - val_accuracy: 0.5071 - val_precision: 0.6305 - val_recall: 0.3033 - val_f1_score: 0.2625\n",
            "Epoch 3/10\n",
            "202/202 [==============================] - 5s 23ms/step - loss: 1.3134 - accuracy: 0.5116 - precision: 0.7080 - recall: 0.2936 - f1_score: 0.2925 - val_loss: 1.1804 - val_accuracy: 0.5507 - val_precision: 0.7239 - val_recall: 0.3667 - val_f1_score: 0.3249\n",
            "Epoch 4/10\n",
            "202/202 [==============================] - 5s 24ms/step - loss: 1.2044 - accuracy: 0.5804 - precision: 0.7610 - recall: 0.3518 - f1_score: 0.3807 - val_loss: 1.0609 - val_accuracy: 0.6582 - val_precision: 0.8316 - val_recall: 0.4419 - val_f1_score: 0.4488\n",
            "Epoch 5/10\n",
            "202/202 [==============================] - 6s 30ms/step - loss: 1.1194 - accuracy: 0.6301 - precision: 0.7787 - recall: 0.4068 - f1_score: 0.4333 - val_loss: 0.9882 - val_accuracy: 0.6712 - val_precision: 0.7900 - val_recall: 0.5308 - val_f1_score: 0.4604\n",
            "Epoch 6/10\n",
            "202/202 [==============================] - 5s 25ms/step - loss: 1.0525 - accuracy: 0.6510 - precision: 0.7823 - recall: 0.4741 - f1_score: 0.4514 - val_loss: 0.9429 - val_accuracy: 0.6849 - val_precision: 0.8131 - val_recall: 0.5109 - val_f1_score: 0.4812\n",
            "Epoch 7/10\n",
            "202/202 [==============================] - 5s 27ms/step - loss: 1.0235 - accuracy: 0.6609 - precision: 0.7831 - recall: 0.4859 - f1_score: 0.4638 - val_loss: 0.9411 - val_accuracy: 0.6793 - val_precision: 0.7769 - val_recall: 0.5301 - val_f1_score: 0.4821\n",
            "Epoch 8/10\n",
            "202/202 [==============================] - 5s 24ms/step - loss: 1.0000 - accuracy: 0.6659 - precision: 0.7906 - recall: 0.5010 - f1_score: 0.4676 - val_loss: 0.9170 - val_accuracy: 0.6843 - val_precision: 0.8225 - val_recall: 0.5183 - val_f1_score: 0.4888\n",
            "Epoch 9/10\n",
            "202/202 [==============================] - 5s 24ms/step - loss: 0.9690 - accuracy: 0.6805 - precision: 0.8033 - recall: 0.5268 - f1_score: 0.4879 - val_loss: 0.9434 - val_accuracy: 0.6743 - val_precision: 0.7798 - val_recall: 0.5525 - val_f1_score: 0.4616\n",
            "Epoch 10/10\n",
            "202/202 [==============================] - 5s 25ms/step - loss: 0.9598 - accuracy: 0.6779 - precision: 0.7906 - recall: 0.5346 - f1_score: 0.4838 - val_loss: 0.8783 - val_accuracy: 0.6967 - val_precision: 0.8286 - val_recall: 0.5438 - val_f1_score: 0.4976\n"
          ]
        }
      ]
    },
    {
      "cell_type": "code",
      "source": [
        "# Evaluate the model on the test set\n",
        "test_loss, test_accuracy, test_precision, test_recall, test_f1 = model.evaluate(X_test, y_test)\n",
        "\n",
        "# Print the test set metrics\n",
        "print('Test set metrics:')\n",
        "print('  Loss:     {:.3f}'.format(test_loss))\n",
        "print('  Accuracy: {:.3f}'.format(test_accuracy))\n",
        "print('  Precision:{:.3f}'.format(test_precision))\n",
        "print('  Recall:   {:.3f}'.format(test_recall))\n",
        "print('  F1 Score: {:.3f}'.format(test_f1))\n"
      ],
      "metadata": {
        "id": "KQyo4cXJVc10",
        "colab": {
          "base_uri": "https://localhost:8080/"
        },
        "outputId": "210b5c3d-8a2d-40f4-d288-414cfe08a858"
      },
      "execution_count": null,
      "outputs": [
        {
          "output_type": "stream",
          "name": "stdout",
          "text": [
            "51/51 [==============================] - 0s 5ms/step - loss: 0.8783 - accuracy: 0.6967 - precision: 0.8286 - recall: 0.5438 - f1_score: 0.4976\n",
            "Test set metrics:\n",
            "  Loss:     0.878\n",
            "  Accuracy: 0.697\n",
            "  Precision:0.829\n",
            "  Recall:   0.544\n",
            "  F1 Score: 0.498\n"
          ]
        }
      ]
    },
    {
      "cell_type": "markdown",
      "source": [
        "# RANDOM FOREST"
      ],
      "metadata": {
        "id": "F55SzD9byMEi"
      }
    },
    {
      "cell_type": "code",
      "source": [
        "import pandas as pd\n",
        "import numpy as np\n",
        "from sklearn.model_selection import train_test_split\n",
        "from sklearn.ensemble import RandomForestClassifier\n",
        "from sklearn.metrics import accuracy_score, precision_score, recall_score, f1_score\n",
        "from tensorflow.keras.utils import to_categorical"
      ],
      "metadata": {
        "id": "X4Wz2dL2oyll"
      },
      "execution_count": null,
      "outputs": []
    },
    {
      "cell_type": "code",
      "source": [
        "# Load the data\n",
        "url = 'https://raw.githubusercontent.com/jonathan-elian-toapanta/INTERNETWORKING/main/ESCENARIOS/ScenarioB.csv'\n",
        "df = pd.read_csv(url)\n",
        "df= pd.read_csv(url,low_memory=False)\n",
        "dataframe= pd.read_csv(url,low_memory=False)"
      ],
      "metadata": {
        "id": "mACt0E8cphtl"
      },
      "execution_count": null,
      "outputs": []
    },
    {
      "cell_type": "code",
      "execution_count": null,
      "metadata": {
        "id": "CC1KD0Mellmf"
      },
      "outputs": [],
      "source": [
        "\n",
        "# Normalise the data\n",
        "def dfNormalize(df):\n",
        "    for feature_name in df.columns:\n",
        "        df.loc[:,feature_name]= pd.to_numeric(df.loc[:,feature_name], errors='coerce').fillna(0)\n",
        "        max_value = df[feature_name].max()\n",
        "        min_value = df[feature_name].min()   \n",
        "        if (max_value - min_value) > 0:\n",
        "            df.loc[:,feature_name] = (df.loc[:,feature_name] - min_value) / (max_value - min_value)\n",
        "        else:\n",
        "            df.loc[:,feature_name] = (df.loc[:,feature_name]- min_value)    \n",
        "    return df"
      ]
    },
    {
      "cell_type": "code",
      "source": [
        "# Split the data into train and test sets\n",
        "y = df['label']\n",
        "label_map = {'AUDIO': 0, 'BROWSING': 1, 'CHAT': 2, 'FILE-TRANSFER' : 3, 'MAIL' : 4, 'P2P' : 5, 'VIDEO' : 6, 'VOIP' : 7}\n",
        "change_labels = lambda x: label_map[x] if x in label_map else -1\n",
        "y = df['label'].apply(change_labels)\n",
        "\n",
        "X = df.iloc[:, 4:-1]\n",
        "X = dfNormalize(X)\n",
        "\n",
        "X_train, X_test, y_train, y_test = train_test_split(X, y, test_size=0.2, random_state=42, stratify=y)\n",
        "# Create a Random Forest classifier with 100 trees\n",
        "rfc = RandomForestClassifier(n_estimators=100, random_state=42)\n"
      ],
      "metadata": {
        "id": "gbssguQKo3be"
      },
      "execution_count": null,
      "outputs": []
    },
    {
      "cell_type": "code",
      "source": [
        "# Train the model on the training data\n",
        "rfc.fit(X_train, y_train)\n",
        "\n",
        "# Make predictions on the test data\n",
        "y_pred = rfc.predict(X_test)\n"
      ],
      "metadata": {
        "id": "rWC0fAniozcF"
      },
      "execution_count": null,
      "outputs": []
    },
    {
      "cell_type": "code",
      "source": [
        "\n",
        "# Calculate the accuracy, precision, recall, and f1-score of the model\n",
        "accuracy = accuracy_score(y_test, y_pred)\n",
        "precision = precision_score(y_test, y_pred, average='weighted')\n",
        "recall = recall_score(y_test, y_pred, average='weighted')\n",
        "f1 = f1_score(y_test, y_pred, average='weighted')"
      ],
      "metadata": {
        "id": "CsVuLNIWozgd"
      },
      "execution_count": null,
      "outputs": []
    },
    {
      "cell_type": "code",
      "source": [
        "# Print the results\n",
        "print(\"Accuracy:\", accuracy)\n",
        "print(\"Precision:\", precision)\n",
        "print(\"Recall:\", recall)\n",
        "print(\"F1-Score:\", f1)"
      ],
      "metadata": {
        "colab": {
          "base_uri": "https://localhost:8080/"
        },
        "id": "z1AFKZXMpCkm",
        "outputId": "30947928-6132-47d5-ad33-abd57f266dbd"
      },
      "execution_count": null,
      "outputs": [
        {
          "output_type": "stream",
          "name": "stdout",
          "text": [
            "Accuracy: 0.8384089496581728\n",
            "Precision: 0.8384859582948729\n",
            "Recall: 0.8384089496581728\n",
            "F1-Score: 0.8339501085075295\n"
          ]
        }
      ]
    },
    {
      "cell_type": "code",
      "source": [
        "# Resultados del modelo CNN\n",
        "cnn_results = [test_loss, test_accuracy, test_precision, test_recall, test_f1]\n",
        "\n",
        "# Resultados del modelo Random Forest\n",
        "rf_results = [accuracy, precision, recall, f1]"
      ],
      "metadata": {
        "id": "ww3K4xeR6NpD"
      },
      "execution_count": null,
      "outputs": []
    },
    {
      "cell_type": "code",
      "source": [
        "import matplotlib.pyplot as plt\n",
        "import numpy as np\n",
        "\n",
        "# Define the metrics and their scores\n",
        "metrics = ['Precision']\n",
        "rf_scores = [precision]\n",
        "cnn_scores = [test_precision]\n",
        "\n",
        "# Set the bar width\n",
        "bar_width = 0.35\n",
        "\n",
        "# Set the positions of the bars\n",
        "bar_positions_rf = np.arange(len(metrics))\n",
        "bar_positions_cnn = bar_positions_rf + bar_width\n",
        "\n",
        "# Create the bar plots\n",
        "plt.bar(bar_positions_rf, rf_scores, width=bar_width, label='Random Forest')\n",
        "plt.bar(bar_positions_cnn, cnn_scores, width=bar_width, label='CNN')\n",
        "\n",
        "# Add labels and title\n",
        "plt.xticks(bar_positions_rf + bar_width / 2, metrics)\n",
        "plt.ylabel('Score')\n",
        "plt.title('Performance Comparison of Random Forest and CNN SCENARIO B')\n",
        "\n",
        "# Add legend and show the plot\n",
        "plt.legend()\n",
        "plt.show()"
      ],
      "metadata": {
        "colab": {
          "base_uri": "https://localhost:8080/",
          "height": 281
        },
        "id": "MB8hicLC-HRT",
        "outputId": "58840929-24ce-4727-8119-656891cc7455"
      },
      "execution_count": null,
      "outputs": [
        {
          "output_type": "display_data",
          "data": {
            "text/plain": [
              "<Figure size 432x288 with 1 Axes>"
            ],
            "image/png": "[encoded data removed]"
          },
          "metadata": {
            "needs_background": "light"
          }
        }
      ]
    },
    {
      "cell_type": "code",
      "source": [
        "import matplotlib.pyplot as plt\n",
        "import numpy as np\n",
        "\n",
        "# Define the metrics and their scores\n",
        "metrics = ['Precision', 'Recall', 'F1-Score', 'Accuracy']\n",
        "rf_scores = [precision, recall, f1, accuracy]\n",
        "cnn_scores = [test_precision, test_recall, test_f1, test_accuracy]\n",
        "\n",
        "# Set the bar width\n",
        "bar_width = 0.35\n",
        "\n",
        "# Set the positions of the bars\n",
        "bar_positions_rf = np.arange(len(metrics))\n",
        "bar_positions_cnn = bar_positions_rf + bar_width\n",
        "\n",
        "\n",
        "\n",
        "# Create the bar plots\n",
        "plt.bar(bar_positions_rf, rf_scores, width=bar_width, label='Random Forest')\n",
        "plt.bar(bar_positions_cnn, cnn_scores, width=bar_width, label='CNN')\n",
        "\n",
        "# Add labels and title\n",
        "plt.xticks(bar_positions_rf + bar_width / 2, metrics)\n",
        "plt.ylabel('Score')\n",
        "plt.title('Performance Comparison of Random Forest and CNN')\n",
        "\n",
        "# Add legend and show the plot\n",
        "plt.legend()\n",
        "plt.show()"
      ],
      "metadata": {
        "colab": {
          "base_uri": "https://localhost:8080/",
          "height": 281
        },
        "id": "TX3RWKFV-Pl6",
        "outputId": "d9ed9a41-4241-48a8-8134-e757d3f80acd"
      },
      "execution_count": null,
      "outputs": [
        {
          "output_type": "display_data",
          "data": {
            "text/plain": [
              "<Figure size 432x288 with 1 Axes>"
            ],
            "image/png": "[encoded data removed]"
          },
          "metadata": {
            "needs_background": "light"
          }
        }
      ]
    }
  ]
}