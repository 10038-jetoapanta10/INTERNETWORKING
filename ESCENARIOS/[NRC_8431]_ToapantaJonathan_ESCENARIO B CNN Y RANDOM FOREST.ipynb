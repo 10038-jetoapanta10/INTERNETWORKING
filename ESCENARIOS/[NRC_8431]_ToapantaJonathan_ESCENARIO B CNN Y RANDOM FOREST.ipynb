{
  "nbformat": 4,
  "nbformat_minor": 0,
  "metadata": {
    "colab": {
      "provenance": []
    },
    "kernelspec": {
      "name": "python3",
      "display_name": "Python 3"
    },
    "language_info": {
      "name": "python"
    }
  },
  "cells": [
    {
      "cell_type": "markdown",
      "source": [
        "# Escenarios experimentales Internetworking \n",
        "\n",
        "# CNN ESCENARIO B\n",
        "Presentado por: Jonathan Toapanta\n",
        "Fecha: 08/03/2023\n"
      ],
      "metadata": {
        "id": "njQsd8hOFM92"
      }
    },
    {
      "cell_type": "code",
      "execution_count": 61,
      "metadata": {
        "colab": {
          "base_uri": "https://localhost:8080/"
        },
        "id": "r_UClIvH49bU",
        "outputId": "b0ae1be0-c7e3-4ad5-ddb8-aaeba5955d0a"
      },
      "outputs": [
        {
          "output_type": "stream",
          "name": "stdout",
          "text": [
            "Looking in indexes: https://pypi.org/simple, https://us-python.pkg.dev/colab-wheels/public/simple/\n",
            "Requirement already satisfied: tensorflow-addons in /usr/local/lib/python3.9/dist-packages (0.19.0)\n",
            "Requirement already satisfied: packaging in /usr/local/lib/python3.9/dist-packages (from tensorflow-addons) (23.0)\n",
            "Requirement already satisfied: typeguard>=2.7 in /usr/local/lib/python3.9/dist-packages (from tensorflow-addons) (2.13.3)\n"
          ]
        }
      ],
      "source": [
        "!pip install tensorflow-addons\n",
        "import pandas as pd\n",
        "import numpy as np\n",
        "from sklearn.model_selection import train_test_split\n",
        "from tensorflow import keras\n",
        "from tensorflow.keras.utils import to_categorical\n",
        "from tensorflow.keras.callbacks import EarlyStopping\n",
        "from sklearn.metrics import roc_curve, auc\n",
        "import matplotlib.pyplot as plt"
      ]
    },
    {
      "cell_type": "code",
      "source": [
        "# Load the data\n",
        "url = 'https://raw.githubusercontent.com/jonathan-elian-toapanta/INTERNETWORKING/main/ESCENARIOS/ScenarioB.csv'\n",
        "df = pd.read_csv(url)\n",
        "df = pd.read_csv(url,low_memory=False)\n",
        "dataframe = pd.read_csv(url,low_memory=False)"
      ],
      "metadata": {
        "id": "l4N_OJbK5EAR"
      },
      "execution_count": 62,
      "outputs": []
    },
    {
      "cell_type": "code",
      "source": [
        "# Normalise the data\n",
        "def dfNormalize(df):\n",
        "    for feature_name in df.columns:\n",
        "        df.loc[:,feature_name]= pd.to_numeric(df.loc[:,feature_name], errors='coerce').fillna(0)\n",
        "        max_value = df[feature_name].max()\n",
        "        min_value = df[feature_name].min()   \n",
        "        if (max_value - min_value) > 0:\n",
        "            df.loc[:,feature_name] = (df.loc[:,feature_name] - min_value) / (max_value - min_value)\n",
        "        else:\n",
        "            df.loc[:,feature_name] = (df.loc[:,feature_name]- min_value)    \n",
        "    return df"
      ],
      "metadata": {
        "id": "0xubayyt5FsQ"
      },
      "execution_count": 63,
      "outputs": []
    },
    {
      "cell_type": "code",
      "source": [
        "# Split the data into train and test sets\n",
        "y = df['label']\n",
        "label_map = {'AUDIO': 0, 'BROWSING': 1, 'CHAT': 2, 'FILE-TRANSFER' : 3, 'MAIL' : 4, 'P2P' : 5, 'VIDEO' : 6, 'VOIP' : 7}\n",
        "change_labels = lambda x: label_map[x] if x in label_map else -1\n",
        "y = df['label'].apply(change_labels)"
      ],
      "metadata": {
        "id": "TfQXYcnU5FuP"
      },
      "execution_count": 64,
      "outputs": []
    },
    {
      "cell_type": "code",
      "source": [
        "X = df.iloc[:, 4:-1]\n",
        "X = dfNormalize(X)\n",
        "\n",
        "X_train, X_test, y_train, y_test = train_test_split(X, y, test_size=0.2, random_state=42, stratify=y)\n"
      ],
      "metadata": {
        "id": "XhrwIREY5Fwg"
      },
      "execution_count": 65,
      "outputs": []
    },
    {
      "cell_type": "code",
      "source": [
        "# Reshape the data for Conv1D\n",
        "X_train = X_train.values.reshape((X_train.shape[0], X_train.shape[1], 1))\n",
        "X_test = X_test.values.reshape((X_test.shape[0], X_test.shape[1], 1))\n"
      ],
      "metadata": {
        "id": "ls1NXPeA5Fyw"
      },
      "execution_count": 66,
      "outputs": []
    },
    {
      "cell_type": "code",
      "source": [
        "# One-hot encode the labels\n",
        "y_train = to_categorical(y_train)\n",
        "y_test = to_categorical(y_test)\n"
      ],
      "metadata": {
        "id": "1q5JXDf95F1A"
      },
      "execution_count": 67,
      "outputs": []
    },
    {
      "cell_type": "code",
      "source": [
        "# Define the model\n",
        "model = keras.models.Sequential([\n",
        "    keras.layers.Conv1D(filters=64, kernel_size=3, activation='relu', input_shape=(X_train.shape[1], 1)),\n",
        "    keras.layers.MaxPool1D(pool_size=2),\n",
        "    keras.layers.Conv1D(filters=128, kernel_size=3, activation='relu'),\n",
        "    keras.layers.MaxPool1D(pool_size=2),\n",
        "    keras.layers.Flatten(),\n",
        "    keras.layers.Dense(256, activation='relu'),\n",
        "    keras.layers.Dropout(0.5),\n",
        "    keras.layers.Dense(128, activation='relu'),\n",
        "    keras.layers.Dropout(0.5),\n",
        "    keras.layers.Dense(8, activation='softmax')\n",
        "])"
      ],
      "metadata": {
        "id": "LMD55l_p5F6J"
      },
      "execution_count": 68,
      "outputs": []
    },
    {
      "cell_type": "code",
      "source": [
        "from tensorflow.keras.metrics import Precision, Recall\n",
        "from tensorflow_addons.metrics import F1Score\n"
      ],
      "metadata": {
        "id": "ZoevZ_Ji5F77"
      },
      "execution_count": 69,
      "outputs": []
    },
    {
      "cell_type": "code",
      "source": [
        "# Compile the model\n",
        "model.compile(optimizer='adam', loss='categorical_crossentropy', \n",
        "              metrics=['accuracy', Precision(), Recall(), F1Score(num_classes=8, average='macro')])\n"
      ],
      "metadata": {
        "id": "4HHCnbFX5MRQ"
      },
      "execution_count": 70,
      "outputs": []
    },
    {
      "cell_type": "code",
      "source": [
        "# Set up EarlyStopping callback\n",
        "early_stop = EarlyStopping(monitor='val_loss', patience=5)\n"
      ],
      "metadata": {
        "id": "qnaZWr685MS3"
      },
      "execution_count": 71,
      "outputs": []
    },
    {
      "cell_type": "code",
      "source": [
        "# Train the model\n",
        "history = model.fit(X_train, y_train, epochs=10, batch_size=32, validation_data=(X_test, y_test), callbacks=[early_stop])\n"
      ],
      "metadata": {
        "colab": {
          "base_uri": "https://localhost:8080/"
        },
        "id": "02N0fkID5MU_",
        "outputId": "a5dd0668-542d-4a73-e483-29cf02451163"
      },
      "execution_count": 72,
      "outputs": [
        {
          "output_type": "stream",
          "name": "stdout",
          "text": [
            "Epoch 1/10\n",
            "202/202 [==============================] - 4s 11ms/step - loss: 1.6090 - accuracy: 0.4093 - precision_2: 0.5670 - recall_2: 0.1368 - f1_score: 0.1761 - val_loss: 1.3890 - val_accuracy: 0.4723 - val_precision_2: 0.7912 - val_recall_2: 0.2356 - val_f1_score: 0.1782\n",
            "Epoch 2/10\n",
            "202/202 [==============================] - 3s 14ms/step - loss: 1.3965 - accuracy: 0.4707 - precision_2: 0.6467 - recall_2: 0.2367 - f1_score: 0.2360 - val_loss: 1.2742 - val_accuracy: 0.5022 - val_precision_2: 0.6936 - val_recall_2: 0.3151 - val_f1_score: 0.2532\n",
            "Epoch 3/10\n",
            "202/202 [==============================] - 4s 17ms/step - loss: 1.3009 - accuracy: 0.5144 - precision_2: 0.7019 - recall_2: 0.2982 - f1_score: 0.2991 - val_loss: 1.2910 - val_accuracy: 0.5364 - val_precision_2: 0.6393 - val_recall_2: 0.3580 - val_f1_score: 0.3092\n",
            "Epoch 4/10\n",
            "202/202 [==============================] - 3s 14ms/step - loss: 1.2112 - accuracy: 0.5764 - precision_2: 0.7603 - recall_2: 0.3436 - f1_score: 0.3783 - val_loss: 1.0662 - val_accuracy: 0.6501 - val_precision_2: 0.7742 - val_recall_2: 0.4667 - val_f1_score: 0.4412\n",
            "Epoch 5/10\n",
            "202/202 [==============================] - 3s 13ms/step - loss: 1.1174 - accuracy: 0.6323 - precision_2: 0.7897 - recall_2: 0.4120 - f1_score: 0.4344 - val_loss: 1.0117 - val_accuracy: 0.6706 - val_precision_2: 0.8006 - val_recall_2: 0.4842 - val_f1_score: 0.4683\n",
            "Epoch 6/10\n",
            "202/202 [==============================] - 3s 13ms/step - loss: 1.0589 - accuracy: 0.6528 - precision_2: 0.7908 - recall_2: 0.4611 - f1_score: 0.4555 - val_loss: 0.9659 - val_accuracy: 0.6818 - val_precision_2: 0.8276 - val_recall_2: 0.4773 - val_f1_score: 0.4845\n",
            "Epoch 7/10\n",
            "202/202 [==============================] - 5s 23ms/step - loss: 1.0065 - accuracy: 0.6620 - precision_2: 0.7901 - recall_2: 0.4984 - f1_score: 0.4632 - val_loss: 0.9472 - val_accuracy: 0.6955 - val_precision_2: 0.8263 - val_recall_2: 0.4848 - val_f1_score: 0.5010\n",
            "Epoch 8/10\n",
            "202/202 [==============================] - 3s 16ms/step - loss: 0.9853 - accuracy: 0.6720 - precision_2: 0.7906 - recall_2: 0.5064 - f1_score: 0.4769 - val_loss: 0.9153 - val_accuracy: 0.6905 - val_precision_2: 0.8318 - val_recall_2: 0.5165 - val_f1_score: 0.4903\n",
            "Epoch 9/10\n",
            "202/202 [==============================] - 3s 14ms/step - loss: 0.9506 - accuracy: 0.6793 - precision_2: 0.7992 - recall_2: 0.5350 - f1_score: 0.4819 - val_loss: 0.9049 - val_accuracy: 0.6948 - val_precision_2: 0.8402 - val_recall_2: 0.5034 - val_f1_score: 0.4969\n",
            "Epoch 10/10\n",
            "202/202 [==============================] - 3s 14ms/step - loss: 0.9280 - accuracy: 0.6864 - precision_2: 0.7949 - recall_2: 0.5476 - f1_score: 0.4922 - val_loss: 0.8728 - val_accuracy: 0.7073 - val_precision_2: 0.7949 - val_recall_2: 0.5948 - val_f1_score: 0.5075\n"
          ]
        }
      ]
    },
    {
      "cell_type": "code",
      "source": [
        "# Evaluate the model on the test set\n",
        "test_loss, test_accuracy, test_precision, test_recall, test_f1 = model.evaluate(X_test, y_test)\n"
      ],
      "metadata": {
        "colab": {
          "base_uri": "https://localhost:8080/"
        },
        "id": "iNzkOikR5MXC",
        "outputId": "12031dba-e37f-40ec-b617-08b2e705ed5f"
      },
      "execution_count": 73,
      "outputs": [
        {
          "output_type": "stream",
          "name": "stdout",
          "text": [
            "51/51 [==============================] - 0s 5ms/step - loss: 0.8728 - accuracy: 0.7073 - precision_2: 0.7949 - recall_2: 0.5948 - f1_score: 0.5075\n"
          ]
        }
      ]
    },
    {
      "cell_type": "code",
      "source": [
        "# Print the test set metrics\n",
        "print('Test set metrics:')\n",
        "print('  Loss:     {:.3f}'.format(test_loss))\n",
        "print('  Accuracy: {:.3f}'.format(test_accuracy))\n",
        "print('  Precision:{:.3f}'.format(test_precision))\n",
        "print('  Recall:   {:.3f}'.format(test_recall))\n",
        "print('  F1 Score: {:.3f}'.format(test_f1))\n"
      ],
      "metadata": {
        "colab": {
          "base_uri": "https://localhost:8080/"
        },
        "id": "Q2EHjTe75Q4o",
        "outputId": "d656251f-f572-433f-f711-f19f201fef11"
      },
      "execution_count": 74,
      "outputs": [
        {
          "output_type": "stream",
          "name": "stdout",
          "text": [
            "Test set metrics:\n",
            "  Loss:     0.873\n",
            "  Accuracy: 0.707\n",
            "  Precision:0.795\n",
            "  Recall:   0.595\n",
            "  F1 Score: 0.508\n"
          ]
        }
      ]
    },
    {
      "cell_type": "code",
      "source": [
        "# Plot the ROC curve\n",
        "import matplotlib.pyplot as plt\n",
        "from sklearn.metrics import roc_curve, auc\n"
      ],
      "metadata": {
        "id": "CmOzewWP5Q63"
      },
      "execution_count": 75,
      "outputs": []
    },
    {
      "cell_type": "code",
      "source": [
        "y_pred = model.predict(X_test)\n",
        "fpr = {}\n",
        "tpr = {}\n",
        "roc_auc = {}\n",
        "for i in range(8):\n",
        "    fpr[i], tpr[i], _ = roc_curve(y_test[:, i], y_pred[:, i])\n",
        "    roc_auc[i] = auc(fpr[i], tpr[i])\n"
      ],
      "metadata": {
        "colab": {
          "base_uri": "https://localhost:8080/"
        },
        "id": "f9wcSdI_5Q9Q",
        "outputId": "f36808c9-c7ce-437a-c850-8b3aefb9da9d"
      },
      "execution_count": 76,
      "outputs": [
        {
          "output_type": "stream",
          "name": "stdout",
          "text": [
            "51/51 [==============================] - 0s 3ms/step\n"
          ]
        }
      ]
    },
    {
      "cell_type": "code",
      "source": [
        "# Compute micro-average ROC curve and ROC area\n",
        "fpr[\"micro\"], tpr[\"micro\"], _ = roc_curve(y_test.ravel(), y_pred.ravel())\n",
        "roc_auc[\"micro\"] = auc(fpr[\"micro\"], tpr[\"micro\"])\n"
      ],
      "metadata": {
        "id": "eBAfiFP-5UmQ"
      },
      "execution_count": 77,
      "outputs": []
    },
    {
      "cell_type": "code",
      "source": [
        "# Plot ROC curve\n",
        "plt.figure()\n",
        "lw = 2\n",
        "plt.plot(fpr[\"micro\"], tpr[\"micro\"], color='darkorange',\n",
        "         lw=lw, label='ROC curve (area = %0.2f)' % roc_auc[\"micro\"])\n",
        "plt.plot([0, 1], [0, 1], color='navy', lw=lw, linestyle='--')\n",
        "plt.xlim([0.0, 1.0])\n",
        "plt.ylim([0.0, 1.05])\n",
        "plt.xlabel('False Positive Rate')\n",
        "plt.ylabel('True Positive Rate')\n",
        "plt.title('Receiver operating characteristic')\n",
        "plt.legend(loc=\"lower right\")\n",
        "plt.show()"
      ],
      "metadata": {
        "colab": {
          "base_uri": "https://localhost:8080/",
          "height": 295
        },
        "id": "PpbSFo335Vh2",
        "outputId": "1179ec46-7608-4a59-a5e0-4a5ef4d595ae"
      },
      "execution_count": 78,
      "outputs": [
        {
          "output_type": "display_data",
          "data": {
            "text/plain": [
              "<Figure size 432x288 with 1 Axes>"
            ],
            "image/png": "[encoded data removed]"
          },
          "metadata": {
            "needs_background": "light"
          }
        }
      ]
    },
    {
      "cell_type": "markdown",
      "source": [
        "# RANDOM FOREST"
      ],
      "metadata": {
        "id": "8io2K2n2-24p"
      }
    },
    {
      "cell_type": "code",
      "source": [
        "import pandas as pd\n",
        "import numpy as np\n",
        "from sklearn.model_selection import train_test_split, cross_val_score\n",
        "from sklearn.ensemble import RandomForestClassifier\n",
        "from sklearn.metrics import accuracy_score, precision_score, recall_score, f1_score\n",
        "from tensorflow.keras.utils import to_categorical\n"
      ],
      "metadata": {
        "id": "DBBdtNbh-2PN"
      },
      "execution_count": 113,
      "outputs": []
    },
    {
      "cell_type": "code",
      "source": [
        "# Load the data\n",
        "url = 'https://raw.githubusercontent.com/jonathan-elian-toapanta/INTERNETWORKING/main/ESCENARIOS/ScenarioB.csv'\n",
        "df = pd.read_csv(url)\n",
        "df= pd.read_csv(url,low_memory=False)\n",
        "dataframe= pd.read_csv(url,low_memory=False)\n"
      ],
      "metadata": {
        "id": "Ef-dgD0p-2Qy"
      },
      "execution_count": 114,
      "outputs": []
    },
    {
      "cell_type": "code",
      "source": [
        "# Normalise the data\n",
        "def dfNormalize(df):\n",
        "    for feature_name in df.columns:\n",
        "        df.loc[:,feature_name]= pd.to_numeric(df.loc[:,feature_name], errors='coerce').fillna(0)\n",
        "        max_value = df[feature_name].max()\n",
        "        min_value = df[feature_name].min()   \n",
        "        if (max_value - min_value) > 0:\n",
        "            df.loc[:,feature_name] = (df.loc[:,feature_name] - min_value) / (max_value - min_value)\n",
        "        else:\n",
        "            df.loc[:,feature_name] = (df.loc[:,feature_name]- min_value)    \n",
        "    return df\n"
      ],
      "metadata": {
        "id": "FIXC9yWI-2TJ"
      },
      "execution_count": 115,
      "outputs": []
    },
    {
      "cell_type": "code",
      "source": [
        "# Split the data into train and test sets\n",
        "y = df['label']\n",
        "label_map = {'AUDIO': 0, 'BROWSING': 1, 'CHAT': 2, 'FILE-TRANSFER' : 3, 'MAIL' : 4, 'P2P' : 5, 'VIDEO' : 6, 'VOIP' : 7}\n",
        "change_labels = lambda x: label_map[x] if x in label_map else -1\n",
        "y = df['label'].apply(change_labels)\n"
      ],
      "metadata": {
        "id": "0FgGXuIo-2VZ"
      },
      "execution_count": 116,
      "outputs": []
    },
    {
      "cell_type": "code",
      "source": [
        "X = df.iloc[:, 4:-1]\n",
        "X = dfNormalize(X)\n",
        "\n",
        "X_train, X_test, y_train, y_test = train_test_split(X, y, test_size=0.2, random_state=42, stratify=y)"
      ],
      "metadata": {
        "id": "fBzqY5K8-2Xc"
      },
      "execution_count": 117,
      "outputs": []
    },
    {
      "cell_type": "code",
      "source": [
        "# Create a Random Forest classifier with 100 trees\n",
        "rfc = RandomForestClassifier(n_estimators=100, random_state=42)\n"
      ],
      "metadata": {
        "id": "tBNCFO9i_E2p"
      },
      "execution_count": 118,
      "outputs": []
    },
    {
      "cell_type": "code",
      "source": [
        "# Perform cross validation with 5 folds\n",
        "scores = cross_val_score(rfc, X_train, y_train, cv=8)\n"
      ],
      "metadata": {
        "id": "_CJWAWn5-2ZZ"
      },
      "execution_count": 119,
      "outputs": []
    },
    {
      "cell_type": "code",
      "source": [
        "# Train the model on the training data\n",
        "rfc.fit(X_train, y_train)\n"
      ],
      "metadata": {
        "colab": {
          "base_uri": "https://localhost:8080/",
          "height": 74
        },
        "id": "EZsxtAGX-2b-",
        "outputId": "3adddbf8-1132-4d73-ae67-132a6ffc9f43"
      },
      "execution_count": 120,
      "outputs": [
        {
          "output_type": "execute_result",
          "data": {
            "text/plain": [
              "RandomForestClassifier(random_state=42)"
            ],
            "text/html": [
              "<style>#sk-container-id-5 {color: black;background-color: white;}#sk-container-id-5 pre{padding: 0;}#sk-container-id-5 div.sk-toggleable {background-color: white;}#sk-container-id-5 label.sk-toggleable__label {cursor: pointer;display: block;width: 100%;margin-bottom: 0;padding: 0.3em;box-sizing: border-box;text-align: center;}#sk-container-id-5 label.sk-toggleable__label-arrow:before {content: \"▸\";float: left;margin-right: 0.25em;color: #696969;}#sk-container-id-5 label.sk-toggleable__label-arrow:hover:before {color: black;}#sk-container-id-5 div.sk-estimator:hover label.sk-toggleable__label-arrow:before {color: black;}#sk-container-id-5 div.sk-toggleable__content {max-height: 0;max-width: 0;overflow: hidden;text-align: left;background-color: #f0f8ff;}#sk-container-id-5 div.sk-toggleable__content pre {margin: 0.2em;color: black;border-radius: 0.25em;background-color: #f0f8ff;}#sk-container-id-5 input.sk-toggleable__control:checked~div.sk-toggleable__content {max-height: 200px;max-width: 100%;overflow: auto;}#sk-container-id-5 input.sk-toggleable__control:checked~label.sk-toggleable__label-arrow:before {content: \"▾\";}#sk-container-id-5 div.sk-estimator input.sk-toggleable__control:checked~label.sk-toggleable__label {background-color: #d4ebff;}#sk-container-id-5 div.sk-label input.sk-toggleable__control:checked~label.sk-toggleable__label {background-color: #d4ebff;}#sk-container-id-5 input.sk-hidden--visually {border: 0;clip: rect(1px 1px 1px 1px);clip: rect(1px, 1px, 1px, 1px);height: 1px;margin: -1px;overflow: hidden;padding: 0;position: absolute;width: 1px;}#sk-container-id-5 div.sk-estimator {font-family: monospace;background-color: #f0f8ff;border: 1px dotted black;border-radius: 0.25em;box-sizing: border-box;margin-bottom: 0.5em;}#sk-container-id-5 div.sk-estimator:hover {background-color: #d4ebff;}#sk-container-id-5 div.sk-parallel-item::after {content: \"\";width: 100%;border-bottom: 1px solid gray;flex-grow: 1;}#sk-container-id-5 div.sk-label:hover label.sk-toggleable__label {background-color: #d4ebff;}#sk-container-id-5 div.sk-serial::before {content: \"\";position: absolute;border-left: 1px solid gray;box-sizing: border-box;top: 0;bottom: 0;left: 50%;z-index: 0;}#sk-container-id-5 div.sk-serial {display: flex;flex-direction: column;align-items: center;background-color: white;padding-right: 0.2em;padding-left: 0.2em;position: relative;}#sk-container-id-5 div.sk-item {position: relative;z-index: 1;}#sk-container-id-5 div.sk-parallel {display: flex;align-items: stretch;justify-content: center;background-color: white;position: relative;}#sk-container-id-5 div.sk-item::before, #sk-container-id-5 div.sk-parallel-item::before {content: \"\";position: absolute;border-left: 1px solid gray;box-sizing: border-box;top: 0;bottom: 0;left: 50%;z-index: -1;}#sk-container-id-5 div.sk-parallel-item {display: flex;flex-direction: column;z-index: 1;position: relative;background-color: white;}#sk-container-id-5 div.sk-parallel-item:first-child::after {align-self: flex-end;width: 50%;}#sk-container-id-5 div.sk-parallel-item:last-child::after {align-self: flex-start;width: 50%;}#sk-container-id-5 div.sk-parallel-item:only-child::after {width: 0;}#sk-container-id-5 div.sk-dashed-wrapped {border: 1px dashed gray;margin: 0 0.4em 0.5em 0.4em;box-sizing: border-box;padding-bottom: 0.4em;background-color: white;}#sk-container-id-5 div.sk-label label {font-family: monospace;font-weight: bold;display: inline-block;line-height: 1.2em;}#sk-container-id-5 div.sk-label-container {text-align: center;}#sk-container-id-5 div.sk-container {/* jupyter's `normalize.less` sets `[hidden] { display: none; }` but bootstrap.min.css set `[hidden] { display: none !important; }` so we also need the `!important` here to be able to override the default hidden behavior on the sphinx rendered scikit-learn.org. See: https://github.com/scikit-learn/scikit-learn/issues/21755 */display: inline-block !important;position: relative;}#sk-container-id-5 div.sk-text-repr-fallback {display: none;}</style><div id=\"sk-container-id-5\" class=\"sk-top-container\"><div class=\"sk-text-repr-fallback\"><pre>RandomForestClassifier(random_state=42)</pre><b>In a Jupyter environment, please rerun this cell to show the HTML representation or trust the notebook. <br />On GitHub, the HTML representation is unable to render, please try loading this page with nbviewer.org.</b></div><div class=\"sk-container\" hidden><div class=\"sk-item\"><div class=\"sk-estimator sk-toggleable\"><input class=\"sk-toggleable__control sk-hidden--visually\" id=\"sk-estimator-id-5\" type=\"checkbox\" checked><label for=\"sk-estimator-id-5\" class=\"sk-toggleable__label sk-toggleable__label-arrow\">RandomForestClassifier</label><div class=\"sk-toggleable__content\"><pre>RandomForestClassifier(random_state=42)</pre></div></div></div></div></div>"
            ]
          },
          "metadata": {},
          "execution_count": 120
        }
      ]
    },
    {
      "cell_type": "code",
      "source": [
        "# Make predictions on the test data\n",
        "y_pred = rfc.predict(X_test)\n"
      ],
      "metadata": {
        "id": "xLUfUhKc_JDi"
      },
      "execution_count": 121,
      "outputs": []
    },
    {
      "cell_type": "code",
      "source": [
        "# Calculate the accuracy, precision, recall, and f1-score of the model\n",
        "accuracy = accuracy_score(y_test, y_pred)\n",
        "precision = precision_score(y_test, y_pred, average='weighted')\n",
        "recall = recall_score(y_test, y_pred, average='weighted')\n",
        "f1 = f1_score(y_test, y_pred, average='weighted')\n"
      ],
      "metadata": {
        "id": "Ws7qf2Yc_JF0"
      },
      "execution_count": 122,
      "outputs": []
    },
    {
      "cell_type": "code",
      "source": [
        "# Print the results\n",
        "print(\"Cross-validation scores:\", scores)\n",
        "print(\"Average cross-validation score:\", np.mean(scores))\n",
        "print(\"Test accuracy:\", accuracy)\n",
        "print(\"Test precision:\", precision)\n",
        "print(\"Test recall:\", recall)\n",
        "print(\"Test F1-score:\", f1)"
      ],
      "metadata": {
        "colab": {
          "base_uri": "https://localhost:8080/"
        },
        "id": "ducBFXTF_JIB",
        "outputId": "ca85a8c6-9be8-4e6c-9752-cfb9ed78156d"
      },
      "execution_count": 123,
      "outputs": [
        {
          "output_type": "stream",
          "name": "stdout",
          "text": [
            "Cross-validation scores: [0.82111801 0.85093168 0.82732919 0.83457711 0.85447761 0.8420398\n",
            " 0.82587065 0.83208955]\n",
            "Average cross-validation score: 0.8360542010444671\n",
            "Test accuracy: 0.8384089496581728\n",
            "Test precision: 0.8384859582948729\n",
            "Test recall: 0.8384089496581728\n",
            "Test F1-score: 0.8339501085075295\n"
          ]
        }
      ]
    },
    {
      "cell_type": "code",
      "source": [
        "import matplotlib.pyplot as plt\n",
        "import numpy as np\n",
        "\n",
        "# Define the metrics and their scores\n",
        "metrics = ['Precision']\n",
        "rf_scores = [precision]\n",
        "cnn_scores = [test_precision]\n",
        "\n",
        "# Set the bar width\n",
        "bar_width = 0.35\n",
        "\n",
        "# Set the positions of the bars\n",
        "bar_positions_rf = np.arange(len(metrics))\n",
        "bar_positions_cnn = bar_positions_rf + bar_width\n",
        "\n",
        "# Create the bar plots\n",
        "plt.bar(bar_positions_rf, rf_scores, width=bar_width, label='Random Forest')\n",
        "plt.bar(bar_positions_cnn, cnn_scores, width=bar_width, label='CNN')\n",
        "\n",
        "# Add labels and title\n",
        "plt.xticks(bar_positions_rf + bar_width / 2, metrics)\n",
        "plt.ylabel('Score')\n",
        "plt.title('Performance Comparison of Random Forest and CNN SCENARIO B')\n",
        "\n",
        "# Add legend and show the plot\n",
        "plt.legend()\n",
        "plt.show()"
      ],
      "metadata": {
        "colab": {
          "base_uri": "https://localhost:8080/",
          "height": 281
        },
        "id": "MB8hicLC-HRT",
        "outputId": "178bdaef-2bac-4168-f8cd-3cc3c636b2cb"
      },
      "execution_count": 124,
      "outputs": [
        {
          "output_type": "display_data",
          "data": {
            "text/plain": [
              "<Figure size 432x288 with 1 Axes>"
            ],
            "image/png": "[encoded data removed]"
          },
          "metadata": {
            "needs_background": "light"
          }
        }
      ]
    },
    {
      "cell_type": "code",
      "source": [
        "import matplotlib.pyplot as plt\n",
        "import numpy as np\n",
        "\n",
        "# Define the metrics and their scores\n",
        "metrics = ['Precision', 'Recall', 'F1-Score', 'Accuracy']\n",
        "rf_scores = [precision, recall, f1, accuracy]\n",
        "cnn_scores = [test_precision, test_recall, test_f1, test_accuracy]\n",
        "\n",
        "# Set the bar width\n",
        "bar_width = 0.35\n",
        "\n",
        "# Set the positions of the bars\n",
        "bar_positions_rf = np.arange(len(metrics))\n",
        "bar_positions_cnn = bar_positions_rf + bar_width\n",
        "\n",
        "\n",
        "\n",
        "# Create the bar plots\n",
        "plt.bar(bar_positions_rf, rf_scores, width=bar_width, label='Random Forest')\n",
        "plt.bar(bar_positions_cnn, cnn_scores, width=bar_width, label='CNN')\n",
        "\n",
        "# Add labels and title\n",
        "plt.xticks(bar_positions_rf + bar_width / 2, metrics)\n",
        "plt.ylabel('Score')\n",
        "plt.title('Performance Comparison of Random Forest and CNN')\n",
        "\n",
        "# Add legend and show the plot\n",
        "plt.legend()\n",
        "plt.show()"
      ],
      "metadata": {
        "colab": {
          "base_uri": "https://localhost:8080/",
          "height": 281
        },
        "id": "TX3RWKFV-Pl6",
        "outputId": "b5eb39a0-3ba3-45bc-f3b3-7b74ba8b78f2"
      },
      "execution_count": 125,
      "outputs": [
        {
          "output_type": "display_data",
          "data": {
            "text/plain": [
              "<Figure size 432x288 with 1 Axes>"
            ],
            "image/png": "[encoded data removed]"
          },
          "metadata": {
            "needs_background": "light"
          }
        }
      ]
    }
  ]
}